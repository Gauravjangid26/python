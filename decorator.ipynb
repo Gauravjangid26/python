{
 "cells": [
  {
   "cell_type": "code",
   "execution_count": 1,
   "id": "d535f933",
   "metadata": {},
   "outputs": [
    {
     "name": "stdout",
     "output_type": "stream",
     "text": [
      "function greet is called\n",
      "good morning! Gaurav\n",
      "function greet is executed\n"
     ]
    }
   ],
   "source": [
    "def log_decorator(func):\n",
    "    def wrapper(*args,**kwargs):\n",
    "        print(f\"function {func.__name__} is called\")\n",
    "        result=func(*args,**kwargs)\n",
    "        print(f\"function {func.__name__} is executed\")\n",
    "        return result\n",
    "    return wrapper\n",
    "\n",
    "@log_decorator\n",
    "def greet(name):\n",
    "    print(f\"good morning! {name}\")\n",
    "    \n",
    "greet(\"Gaurav\")"
   ]
  },
  {
   "cell_type": "code",
   "execution_count": null,
   "id": "42b810cd",
   "metadata": {},
   "outputs": [],
   "source": []
  },
  {
   "cell_type": "code",
   "execution_count": null,
   "id": "3230eb1e",
   "metadata": {},
   "outputs": [],
   "source": []
  }
 ],
 "metadata": {
  "kernelspec": {
   "display_name": "Python 3 (ipykernel)",
   "language": "python",
   "name": "python3"
  },
  "language_info": {
   "codemirror_mode": {
    "name": "ipython",
    "version": 3
   },
   "file_extension": ".py",
   "mimetype": "text/x-python",
   "name": "python",
   "nbconvert_exporter": "python",
   "pygments_lexer": "ipython3",
   "version": "3.11.1"
  }
 },
 "nbformat": 4,
 "nbformat_minor": 5
}
