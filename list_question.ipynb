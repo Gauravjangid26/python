{
 "cells": [
  {
   "cell_type": "code",
   "execution_count": 15,
   "id": "e7a140d4",
   "metadata": {},
   "outputs": [
    {
     "name": "stdout",
     "output_type": "stream",
     "text": [
      "22 30\n"
     ]
    }
   ],
   "source": [
    "list1=[10,20,30,30,19,22]\n",
    "max1=0\n",
    "max2=0\n",
    "for curr in list1:\n",
    "    if curr>max1:\n",
    "        max2=max1\n",
    "        max1=curr\n",
    "    elif curr>max2 and curr!=max1:\n",
    "        max2=curr\n",
    "print(max2,max1)"
   ]
  },
  {
   "cell_type": "code",
   "execution_count": 27,
   "id": "cde997f1",
   "metadata": {},
   "outputs": [
    {
     "name": "stdout",
     "output_type": "stream",
     "text": [
      "consecutive number 8\n"
     ]
    }
   ],
   "source": [
    "list1=[2,11,11,7,7,8,8,8]\n",
    "for i in range((len(list1)-2)):\n",
    "    if list1[i]==list1[i+1]==list1[i+2]:\n",
    "        print(\"consecutive number\",list1[i])\n"
   ]
  },
  {
   "cell_type": "code",
   "execution_count": 2,
   "id": "76d7eb58",
   "metadata": {},
   "outputs": [
    {
     "ename": "SyntaxError",
     "evalue": "'return' outside function (2226811093.py, line 8)",
     "output_type": "error",
     "traceback": [
      "\u001b[0;36m  Cell \u001b[0;32mIn[2], line 8\u001b[0;36m\u001b[0m\n\u001b[0;31m    return False\u001b[0m\n\u001b[0m    ^\u001b[0m\n\u001b[0;31mSyntaxError\u001b[0m\u001b[0;31m:\u001b[0m 'return' outside function\n"
     ]
    }
   ],
   "source": [
    "mylist=[]\n",
    "\n",
    "for char in string:\n",
    "    if char in \"{[(\":\n",
    "        mylist.append(char)\n",
    "    else:\n",
    "        if not mylist:\n",
    "            return False\n",
    "        \n",
    "        curr=mylist.pop()\n",
    "        if curr==\"(\" and char!=\")\":\n",
    "            return False\n",
    "        \n",
    "        elif curr==\"[\" and char!=\"]\":\n",
    "            return False\n",
    "        \n",
    "        elif curr==\"{\" and char!=\"}\":\n",
    "            return False\n",
    "if mylist:\n",
    "    return False\n",
    "else:\n",
    "    return True\n",
    "    \n",
    "    "
   ]
  },
  {
   "cell_type": "code",
   "execution_count": 55,
   "id": "a0547fa2",
   "metadata": {},
   "outputs": [],
   "source": [
    "list1=[10,20,30,30,19,22]\n",
    "max1=list1[0]\n",
    "for i in list1:\n",
    "    if i>max1:\n",
    "        max1=i\n",
    "    "
   ]
  },
  {
   "cell_type": "code",
   "execution_count": 59,
   "id": "fc519db3",
   "metadata": {},
   "outputs": [
    {
     "name": "stdout",
     "output_type": "stream",
     "text": [
      "22\n"
     ]
    }
   ],
   "source": [
    "list1=[10,20,30,30,19,22,22]\n",
    "max1=list1[0]\n",
    "max2=list1[0]\n",
    "for curr in list1:\n",
    "    if curr>max1:\n",
    "        max2=max1\n",
    "        max1=i\n",
    "    elif curr>max2:\n",
    "        max2=i\n",
    "print(max2)"
   ]
  },
  {
   "cell_type": "code",
   "execution_count": 72,
   "id": "6a76e5d4",
   "metadata": {},
   "outputs": [
    {
     "name": "stdout",
     "output_type": "stream",
     "text": [
      "consecutive 8\n"
     ]
    }
   ],
   "source": [
    "list1=[2,11,11,7,7,8,8,8]\n",
    "for i in range(0,len(list1)-2):\n",
    "    if list1[i]==list1[i+1]==list1[i+2]:\n",
    "        print(\"consecutive\",list1[i])"
   ]
  },
  {
   "cell_type": "code",
   "execution_count": 83,
   "id": "c122ade6",
   "metadata": {},
   "outputs": [
    {
     "name": "stdout",
     "output_type": "stream",
     "text": [
      "Enter the bracket :()[]{}\n",
      "not valid parenthesis\n"
     ]
    }
   ],
   "source": [
    "parenthesis=input(\"Enter the bracket :\")\n",
    "x=0\n",
    "ls=[]\n",
    "ls.extend(parenthesis)\n",
    "for char in \"({[]})\":\n",
    "    \n",
    "    if char==\"{\" and ls.pop()==\"}\":\n",
    "        x=0\n",
    "    elif char==\"[\" and ls.pop()==\"]\":\n",
    "        x=0\n",
    "    elif char==\"(\" and ls.pop()==\")\":\n",
    "        x=0\n",
    "    else:\n",
    "        x=1\n",
    "if x==1:\n",
    "    print(\"not valid parenthesis\")\n",
    "\n",
    "else:\n",
    "    print(\"valid parenthesis\")"
   ]
  },
  {
   "cell_type": "code",
   "execution_count": 112,
   "id": "d954679c",
   "metadata": {},
   "outputs": [],
   "source": [
    "mylist=[[1]]\n",
    "n=4\n",
    "for i in range(n-1):\n",
    "    temp=[0]+mylist[-1]+[0]\n",
    "    list1=[]\n",
    "    for j in range(len(mylist)+1):\n",
    "        list1.append(temp[j]+temp[j+1])\n",
    "    mylist.append(list1)"
   ]
  },
  {
   "cell_type": "code",
   "execution_count": 113,
   "id": "495821ed",
   "metadata": {},
   "outputs": [
    {
     "data": {
      "text/plain": [
       "[[1], [1, 1], [1, 2, 1], [1, 3, 3, 1]]"
      ]
     },
     "execution_count": 113,
     "metadata": {},
     "output_type": "execute_result"
    }
   ],
   "source": [
    "mylist"
   ]
  },
  {
   "cell_type": "code",
   "execution_count": 114,
   "id": "e9f4450f",
   "metadata": {},
   "outputs": [
    {
     "data": {
      "text/plain": [
       "[2, 4]"
      ]
     },
     "execution_count": 114,
     "metadata": {},
     "output_type": "execute_result"
    }
   ],
   "source": [
    "[1+1,2+2]"
   ]
  },
  {
   "cell_type": "code",
   "execution_count": 154,
   "id": "b2700c65",
   "metadata": {},
   "outputs": [
    {
     "name": "stdout",
     "output_type": "stream",
     "text": [
      "[[1]]\n",
      "[[1], [1, 1]]\n",
      "[[1], [1, 1], [1, 2, 1]]\n",
      "[[1], [1, 1], [1, 2, 1], [1, 3, 3, 1]]\n",
      "[[1], [1, 1], [1, 2, 1], [1, 3, 3, 1], [1, 4, 6, 4, 1]]\n"
     ]
    }
   ],
   "source": [
    "rows=5\n",
    "mylist=[]\n",
    "for i in range(0,5):\n",
    "    temp=[]\n",
    "    for j in range(0,i+1):\n",
    "        if j==0 or i==j:\n",
    "            temp.append(1)\n",
    "        else:\n",
    "            temp.append(mylist[i-1][j-1] + mylist[i-1][j])\n",
    "    mylist.append(temp)\n",
    "    print(mylist)\n",
    "\n",
    "\n",
    "\n",
    "        \n",
    "    "
   ]
  },
  {
   "cell_type": "code",
   "execution_count": 155,
   "id": "a5984f96",
   "metadata": {},
   "outputs": [
    {
     "data": {
      "text/plain": [
       "[[1], [1, 1], [1, 2, 1], [1, 3, 3, 1], [1, 4, 6, 4, 1]]"
      ]
     },
     "execution_count": 155,
     "metadata": {},
     "output_type": "execute_result"
    }
   ],
   "source": [
    "mylist"
   ]
  },
  {
   "cell_type": "code",
   "execution_count": null,
   "id": "05a90245",
   "metadata": {},
   "outputs": [],
   "source": []
  }
 ],
 "metadata": {
  "kernelspec": {
   "display_name": "Python 3 (ipykernel)",
   "language": "python",
   "name": "python3"
  },
  "language_info": {
   "codemirror_mode": {
    "name": "ipython",
    "version": 3
   },
   "file_extension": ".py",
   "mimetype": "text/x-python",
   "name": "python",
   "nbconvert_exporter": "python",
   "pygments_lexer": "ipython3",
   "version": "3.11.1"
  }
 },
 "nbformat": 4,
 "nbformat_minor": 5
}
