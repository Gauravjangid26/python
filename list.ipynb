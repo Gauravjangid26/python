{
 "cells": [
  {
   "cell_type": "code",
   "execution_count": 1,
   "metadata": {},
   "outputs": [
    {
     "data": {
      "text/plain": [
       "<list_iterator at 0x110edba90>"
      ]
     },
     "execution_count": 1,
     "metadata": {},
     "output_type": "execute_result"
    }
   ],
   "source": [
    "iter([1,2,3])"
   ]
  },
  {
   "cell_type": "code",
   "execution_count": 2,
   "metadata": {},
   "outputs": [],
   "source": [
    "#all odd numbers\n",
    "ls=[]\n",
    "for i in range(0,len(ls)):\n",
    "    if ls[i]%2==1:\n",
    "        print(ls[i])"
   ]
  },
  {
   "cell_type": "code",
   "execution_count": 3,
   "metadata": {},
   "outputs": [],
   "source": [
    "#all even numbers\n",
    "ls=[]\n",
    "for i in range(0,len(ls)):\n",
    "    if ls[i]%2==0:\n",
    "        print(ls[i])"
   ]
  },
  {
   "cell_type": "code",
   "execution_count": 4,
   "metadata": {},
   "outputs": [
    {
     "name": "stdout",
     "output_type": "stream",
     "text": [
      "20 20\n",
      "30 30\n",
      "40 40\n",
      "50 50\n",
      "50 41\n",
      "50 23\n"
     ]
    }
   ],
   "source": [
    "ls=[20,30,40,50,41,23]\n",
    "max1=ls[0]\n",
    "for i in range(0,len(ls)):\n",
    "    if max1<ls[i]:\n",
    "        max1=ls[i]\n",
    "    print(max1,ls[i])        "
   ]
  },
  {
   "cell_type": "code",
   "execution_count": 5,
   "metadata": {},
   "outputs": [
    {
     "name": "stdout",
     "output_type": "stream",
     "text": [
      "20\n",
      "nested 20 30\n",
      "nested 20 40\n",
      "nested 20 50\n",
      "nested 20 41\n",
      "nested 20 23\n"
     ]
    }
   ],
   "source": [
    "#two pointer approach\n",
    "\n",
    "ls=[20,30,40,50,41,23]\n",
    "\n",
    "for i in range(0,1):\n",
    "    print(ls[i])\n",
    "    for j in range(1,len(ls)):\n",
    "        print(\"nested\",ls[i],ls[j]) "
   ]
  },
  {
   "cell_type": "code",
   "execution_count": 6,
   "metadata": {},
   "outputs": [
    {
     "name": "stdout",
     "output_type": "stream",
     "text": [
      "nested 30 50\n"
     ]
    }
   ],
   "source": [
    "ls=[20,30,40,50,41,23]\n",
    "\n",
    "for i in range(0,len(ls)):\n",
    "    for j in range(i+1,len(ls)):\n",
    "        sum=ls[i]+ls[j]\n",
    "        if sum==80:\n",
    "            print(\"nested\",ls[i],ls[j]) "
   ]
  },
  {
   "cell_type": "markdown",
   "metadata": {},
   "source": [
    "1. Write a Python program to find the maximum element in a list of numbers without\n",
    "max functions\n",
    "numbers = [10, 20, 4, 45, 99]\n",
    "The maximum element is: 99\n",
    "2. Write a Python program to sum all the elements in a list of numbers.\n",
    "a. numbers = [10, 20, 30, 40]\n",
    "b. The sum of all elements is: 100\n",
    "3. Write a Python program to reverse a list without reverse or slicing operator\n",
    "a. numbers = [1, 2, 3, 4, 5]\n",
    "b. Reversed list: [5, 4, 3, 2, 1]\n",
    "4. Write a Python program to sort a list in ascending order without sort functions\n",
    "5. Write a Python program to remove duplicates from a list while maintaining the order\n",
    "of elements.\n",
    "a. numbers = [1, 2, 2, 3, 4, 4, 5]\n",
    "b. List after removing duplicates: [1, 2, 3, 4, 5]\n",
    "6. Write a Python program to find all pairs of numbers in a list that add up to a specific\n",
    "target sum.\n",
    "a. numbers = [1, 2, 3, 4, 3, 5, 6] target_sum = 6\n",
    "b. Pairs that add up to 6: [(3, 3), (2, 4), (1, 5)]\n",
    "7. Write a Python program to flatten a nested list (list within lists) into a single list.\n",
    "a. nested_list = [1, [2, 3], [4, [5, 6], 7], 8]\n",
    "b. Flattened list: [1, 2, 3, 4, 5, 6, 7, 8]\n",
    "8. Write a Python program to find the sum of the elements in a list, excluding the largest\n",
    "and smallest element. Don’t use max or min functions\n",
    "a. numbers = [1, 2, 3, 4, 5]\n",
    "b. Sum excluding the largest and smallest element: 9\n",
    "\n",
    "Intermediate\n",
    "\n",
    "9. Write a Python program to check if a list is a palindrome (reads the same backward\n",
    "as forward) using two pointer approach\n",
    "a. numbers = [1, 2, 3, 2, 1]\n",
    "b. True\n",
    "10. Write a function to remove duplicate elements from a list.\n",
    "a. numbers = [1, 2, 3, 2, 4, 5, 1, 6]\n",
    "b. [1, 2, 3, 4, 5, 6]\n",
    "11. Find Common Elements in Two Lists\n",
    "a. list1 = [1, 2, 3, 4, 5]\n",
    "b. list2 = [3, 4, 5, 6, 7]\n",
    "c. Result: [3, 4, 5]\n",
    "12. Find the Longest Word in a List\n",
    "a. words = [\"apple\", \"banana\", \"strawberry\", \"kiwi\"]\n",
    "b. Strawberry\n",
    "\n",
    "13. Find Missing Number in a List"
   ]
  },
  {
   "cell_type": "code",
   "execution_count": 7,
   "metadata": {},
   "outputs": [
    {
     "name": "stdout",
     "output_type": "stream",
     "text": [
      "nested 30 50\n"
     ]
    }
   ],
   "source": [
    "#1 \n",
    "ls=[20,30,40,50,41,23]\n",
    "\n",
    "for i in range(0,len(ls)):\n",
    "    for j in range(i+1,len(ls)):\n",
    "        sum=ls[i]+ls[j]\n",
    "        if sum==80:\n",
    "            print(\"nested\",ls[i],ls[j]) "
   ]
  },
  {
   "cell_type": "code",
   "execution_count": 8,
   "metadata": {},
   "outputs": [
    {
     "name": "stdout",
     "output_type": "stream",
     "text": [
      "100\n"
     ]
    }
   ],
   "source": [
    "#2\n",
    "ls = [10, 20, 30, 40]\n",
    "sum=0\n",
    "\n",
    "for i in range(0,len(ls)):\n",
    "    sum=sum+ls[i]\n",
    "    \n",
    "print(sum)"
   ]
  },
  {
   "cell_type": "code",
   "execution_count": 9,
   "metadata": {},
   "outputs": [
    {
     "name": "stdout",
     "output_type": "stream",
     "text": [
      "[5, 4, 3, 2, 1]\n"
     ]
    }
   ],
   "source": [
    "#3\n",
    "numbers = [1, 2, 3, 4, 5]\n",
    "reversed_list = []\n",
    "\n",
    "for i in range(len(numbers)-1, -1, -1):\n",
    "    reversed_list.append(numbers[i])\n",
    "\n",
    "print(reversed_list)"
   ]
  },
  {
   "cell_type": "code",
   "execution_count": 10,
   "metadata": {},
   "outputs": [
    {
     "ename": "SyntaxError",
     "evalue": "invalid syntax (1718443374.py, line 9)",
     "output_type": "error",
     "traceback": [
      "\u001b[0;36m  Cell \u001b[0;32mIn[10], line 9\u001b[0;36m\u001b[0m\n\u001b[0;31m    print(ls)?\u001b[0m\n\u001b[0m             ^\u001b[0m\n\u001b[0;31mSyntaxError\u001b[0m\u001b[0;31m:\u001b[0m invalid syntax\n"
     ]
    }
   ],
   "source": [
    "#4Write a Python program to sort a list in ascending order without sort functions\n",
    "ls = [40,10, 20, 30]\n",
    "for i in range(len(ls)):\n",
    "    j=0\n",
    "    while j<len(ls)-i-1:\n",
    "        if ls[j]>ls[j+1]:\n",
    "            ls[j],ls[j+1]=ls[j+1],ls[j]\n",
    "        j+=1\n",
    "print(ls)?\n",
    "    "
   ]
  },
  {
   "cell_type": "code",
   "execution_count": 11,
   "metadata": {},
   "outputs": [
    {
     "name": "stdout",
     "output_type": "stream",
     "text": [
      "[1, 2, 3, 4, 5]\n"
     ]
    }
   ],
   "source": [
    "#5\n",
    "ls = [1, 2, 2, 3, 4, 4, 5]\n",
    "new_ls=[]\n",
    "for i in range(len(ls)):\n",
    "    if ls[i] not in new_ls:\n",
    "        new_ls.append(ls[i])\n",
    "print(new_ls)"
   ]
  },
  {
   "cell_type": "code",
   "execution_count": 12,
   "metadata": {},
   "outputs": [
    {
     "name": "stdout",
     "output_type": "stream",
     "text": [
      "1 5\n",
      "2 4\n",
      "3 3\n"
     ]
    }
   ],
   "source": [
    "#6. Write a Python program to find all pairs of numbers in a list that add up to a specific\n",
    "\n",
    "ls = [1, 2, 3, 4, 3, 5, 6]\n",
    "target_sum = 6\n",
    "\n",
    "for i in range(len(ls)-1):\n",
    "    j=i+1\n",
    "    \n",
    "    while j<len(ls):\n",
    "        sum=ls[i]+ls[j]\n",
    "        if sum==target_sum:\n",
    "            print(ls[i],ls[j])\n",
    "        j+=1"
   ]
  },
  {
   "cell_type": "code",
   "execution_count": 13,
   "metadata": {},
   "outputs": [
    {
     "name": "stdout",
     "output_type": "stream",
     "text": [
      "[2, 4]\n"
     ]
    }
   ],
   "source": [
    "\n",
    "ls = [1, 2, 2, 3, 4, 4, 5]\n",
    "new_ls=[]\n",
    "for i in range(len(ls)):\n",
    "    for j in range(i+1,len(ls)):\n",
    "        if ls[i]==ls[j]:\n",
    "            if ls[i] not in new_ls:\n",
    "                new_ls.append(ls[i])\n",
    "print(new_ls)\n"
   ]
  },
  {
   "cell_type": "code",
   "execution_count": 14,
   "metadata": {},
   "outputs": [
    {
     "name": "stdout",
     "output_type": "stream",
     "text": [
      "palindrome\n"
     ]
    }
   ],
   "source": [
    "#palindrome(using two pointer approach )\n",
    "ls=[10,20,30,20,10]\n",
    "a=0\n",
    "index=0\n",
    "end=-1\n",
    "while index<end:\n",
    "    if ls[index]!=ls[end]:\n",
    "        print(\"not al palindrome\",ls[index],ls[end])\n",
    "        a=1\n",
    "        break\n",
    "    index+=1\n",
    "    end-=1\n",
    "if a==0:\n",
    "    print('palindrome')\n",
    "\n",
    "else:\n",
    "    print('not a palindrome')\n",
    "\n",
    "    "
   ]
  },
  {
   "cell_type": "code",
   "execution_count": 15,
   "metadata": {},
   "outputs": [
    {
     "data": {
      "text/plain": [
       "True"
      ]
     },
     "execution_count": 15,
     "metadata": {},
     "output_type": "execute_result"
    }
   ],
   "source": [
    "#using pop and reversed\n",
    "ls1=[10,20,30,20,10]\n",
    "ls1==ls"
   ]
  },
  {
   "cell_type": "code",
   "execution_count": 22,
   "metadata": {},
   "outputs": [
    {
     "name": "stdout",
     "output_type": "stream",
     "text": [
      "not a palindrome\n",
      "not a palindrome\n"
     ]
    }
   ],
   "source": [
    "#check palindrome or not\n",
    "str_='mama'\n",
    "a=0\n",
    "index=0\n",
    "end=len(str_)-1\n",
    "while index<end:\n",
    "    if str_[index]!=str_[end]:\n",
    "        print(\"not a palindrome\")\n",
    "        a=1\n",
    "        break\n",
    "    index+=1\n",
    "    end-=1\n",
    "if a==0:\n",
    "    print('palindrome')\n",
    "\n",
    "else:\n",
    "    print('not a palindrome')\n"
   ]
  },
  {
   "cell_type": "code",
   "execution_count": 25,
   "metadata": {},
   "outputs": [],
   "source": [
    "#swap\n",
    "a=10\n",
    "b=20\n",
    "a,b=b,a"
   ]
  },
  {
   "cell_type": "code",
   "execution_count": 30,
   "metadata": {},
   "outputs": [],
   "source": [
    "#swap using 3rd variable\n",
    "a=10\n",
    "b=20\n",
    "temp=a\n",
    "a=b\n",
    "b=temp"
   ]
  },
  {
   "cell_type": "code",
   "execution_count": 45,
   "metadata": {},
   "outputs": [
    {
     "data": {
      "text/plain": [
       "[50, 40, 30, 20, 10]"
      ]
     },
     "execution_count": 45,
     "metadata": {},
     "output_type": "execute_result"
    }
   ],
   "source": [
    "ls=[10,20,30,40,50]\n",
    "index=0\n",
    "end=len(ls)-1\n",
    "while index<end:\n",
    "    temp=ls[index]\n",
    "    ls[index]=ls[end]\n",
    "    ls[end]=temp\n",
    "    index+=1\n",
    "    end-=1\n",
    "ls"
   ]
  },
  {
   "cell_type": "code",
   "execution_count": 48,
   "metadata": {},
   "outputs": [
    {
     "name": "stdout",
     "output_type": "stream",
     "text": [
      "400 50\n"
     ]
    }
   ],
   "source": [
    "ls=[10,20,3,400,50]\n",
    "max=10\n",
    "smax=10\n",
    "for i in range(len(ls)):\n",
    "    if max<ls[i]:\n",
    "        smax=max\n",
    "        max=ls[i] \n",
    "    elif ls[i]>smax:\n",
    "        smax=ls[i]\n",
    "print(max,smax)"
   ]
  },
  {
   "cell_type": "code",
   "execution_count": 19,
   "metadata": {},
   "outputs": [
    {
     "name": "stdout",
     "output_type": "stream",
     "text": [
      "['h', 'he', 'hey', 'heyy', 'eyy', 'yy', 'y']\n"
     ]
    }
   ],
   "source": [
    "#Q1 let i have an string \"heyy\"--->[h,he,hey,heyy,eyy,yy,y]\n",
    "str_ = \"heyy\"\n",
    "ls = []\n",
    "\n",
    "# Get prefixes\n",
    "for i in range(1, len(str_) + 1):\n",
    "    ls.append(str_[:i])\n",
    "\n",
    "# Get suffixes (excluding the full string to avoid duplicate 'heyy')\n",
    "for i in range(1, len(str_)):\n",
    "    ls.append(str_[i:])\n",
    "\n",
    "print(ls)\n",
    "\n",
    "       "
   ]
  },
  {
   "cell_type": "code",
   "execution_count": 26,
   "metadata": {},
   "outputs": [
    {
     "name": "stdout",
     "output_type": "stream",
     "text": [
      "[10, 12, 15, 20, 27]\n",
      "[10, 12, 15, 20, 27]\n"
     ]
    }
   ],
   "source": [
    "#Q2 [10,2,3,,5,7]-->[10,12,15,20,27]\n",
    "ls=[10,2,3,5,7]\n",
    "new_ls=[]\n",
    "sum=0\n",
    "for i in range(0,len(ls)):\n",
    "    sum=sum+ls[i]\n",
    "    new_ls.append(sum)\n",
    "print(new_ls)\n",
    "\n",
    "arr = [10, 2, 3, 5, 7]\n",
    "\n",
    "for i in range(1, len(arr)):\n",
    "    arr[i] += arr[i - 1]\n",
    "\n",
    "print(arr)"
   ]
  },
  {
   "cell_type": "code",
   "execution_count": 27,
   "metadata": {},
   "outputs": [
    {
     "name": "stdout",
     "output_type": "stream",
     "text": [
      "[10, 20, 60, 7]\n"
     ]
    }
   ],
   "source": [
    "#[10,20,10,60,7]find unique elememt\n",
    "ls=[10,20,10,60,7]\n",
    "new_ls=[]\n",
    "for i in ls:\n",
    "    if i not in new_ls:\n",
    "        new_ls.append(i)\n",
    "print(new_ls) "
   ]
  },
  {
   "cell_type": "code",
   "execution_count": 28,
   "metadata": {},
   "outputs": [],
   "source": [
    "#\"khokho\",\"abab\"--> is it symmetric(half part to other half part)\n",
    "#what is dict,why we use dictionary over list,use cases\n",
    "#how to insert an element or delete in dictionary"
   ]
  },
  {
   "cell_type": "code",
   "execution_count": 35,
   "metadata": {},
   "outputs": [
    {
     "name": "stdout",
     "output_type": "stream",
     "text": [
      "symmetric\n"
     ]
    }
   ],
   "source": [
    "#z\n",
    "str_=\"abab\"\n",
    "n = len(str_)\n",
    "half = n // 2\n",
    "if n % 2 == 0:\n",
    "   if  str_[:half] == str_[half:]:\n",
    "       print(\"symmetric\")\n",
    "   else:\n",
    "       print(\"asymmetric\")\n",
    "else:\n",
    "    if str_[:half] == str_[half+1:]:\n",
    "        print(\"symmetric\")\n",
    "    else:\n",
    "       print(\"asymmetric\")\n",
    "    \n",
    "\n",
    "        "
   ]
  },
  {
   "cell_type": "code",
   "execution_count": 38,
   "metadata": {},
   "outputs": [],
   "source": [
    "#flatten list\n",
    "nested = [1, [[2, 3]], [4, [5, 6], 7], 8]\n",
    "stack = list(nested)  # Copy the list\n",
    "flat = []\n",
    "\n",
    "while stack:\n",
    "    item = stack.pop(0)  # Get the first item\n",
    "    if isinstance(item, list):\n",
    "        stack = item + stack  # Flatten one level deeper\n",
    "    else:\n",
    "        flat.append(item)\n"
   ]
  },
  {
   "cell_type": "code",
   "execution_count": 42,
   "metadata": {},
   "outputs": [
    {
     "name": "stdout",
     "output_type": "stream",
     "text": [
      "9\n"
     ]
    }
   ],
   "source": [
    "#8\n",
    "num = [1, 2, 3, 4, 5]\n",
    "num=sorted(num)\n",
    "sum=0\n",
    "for i in range(1,len(num)-1):\n",
    "    sum=sum+num[i]\n",
    "print(sum)"
   ]
  },
  {
   "cell_type": "code",
   "execution_count": 43,
   "metadata": {},
   "outputs": [
    {
     "name": "stdout",
     "output_type": "stream",
     "text": [
      "not a palindrome\n"
     ]
    }
   ],
   "source": [
    "#9\n",
    "str_='mama'\n",
    "pal=True\n",
    "index=0\n",
    "end=len(str_)-1\n",
    "while index<end:\n",
    "    if str_[index]!=str_[end]:\n",
    "        pal=False\n",
    "        break\n",
    "    index+=1\n",
    "    end-=1\n",
    "if pal:\n",
    "    print('palindrome')\n",
    "\n",
    "else:\n",
    "    print('not a palindrome')"
   ]
  },
  {
   "cell_type": "code",
   "execution_count": 46,
   "metadata": {},
   "outputs": [
    {
     "data": {
      "text/plain": [
       "{1: None, 2: None, 3: None, 4: None, 5: None, 6: None}"
      ]
     },
     "execution_count": 46,
     "metadata": {},
     "output_type": "execute_result"
    }
   ],
   "source": [
    "#10\n",
    "numbers = [1, 2, 3, 2, 4, 5, 1, 6]\n",
    "result = dict.fromkeys(numbers)\n",
    "result"
   ]
  },
  {
   "cell_type": "code",
   "execution_count": 49,
   "metadata": {},
   "outputs": [
    {
     "name": "stdout",
     "output_type": "stream",
     "text": [
      "[3, 4, 5]\n"
     ]
    }
   ],
   "source": [
    "#11\n",
    "list1 = [1, 2, 3, 4, 5]\n",
    "list2 = [3, 4, 5, 6, 7]\n",
    "\n",
    "common=[]\n",
    "for i in list1:\n",
    "    for j in list2:\n",
    "        if i==j:\n",
    "            common.append(i)\n",
    "print(common)      "
   ]
  },
  {
   "cell_type": "code",
   "execution_count": 52,
   "metadata": {},
   "outputs": [
    {
     "data": {
      "text/plain": [
       "'strawberry'"
      ]
     },
     "execution_count": 52,
     "metadata": {},
     "output_type": "execute_result"
    }
   ],
   "source": [
    "#12\n",
    "words = [\"apple\", \"banana\", \"strawberry\", \"kiwi\"]\n",
    "max_=words[0]\n",
    "for i in words:\n",
    "    if len(i)>len(max_):\n",
    "        max_=i\n",
    "max_"
   ]
  },
  {
   "cell_type": "code",
   "execution_count": 54,
   "metadata": {},
   "outputs": [
    {
     "ename": "TypeError",
     "evalue": "'int' object is not callable",
     "output_type": "error",
     "traceback": [
      "\u001b[0;31m---------------------------------------------------------------------------\u001b[0m",
      "\u001b[0;31mTypeError\u001b[0m                                 Traceback (most recent call last)",
      "Cell \u001b[0;32mIn[54], line 5\u001b[0m\n\u001b[1;32m      3\u001b[0m n \u001b[38;5;241m=\u001b[39m \u001b[38;5;28mlen\u001b[39m(numbers) \u001b[38;5;241m+\u001b[39m \u001b[38;5;241m1\u001b[39m  \u001b[38;5;66;03m# Since one number is missing\u001b[39;00m\n\u001b[1;32m      4\u001b[0m expected_sum \u001b[38;5;241m=\u001b[39m n \u001b[38;5;241m*\u001b[39m (n \u001b[38;5;241m+\u001b[39m \u001b[38;5;241m1\u001b[39m) \u001b[38;5;241m/\u001b[39m\u001b[38;5;241m/\u001b[39m \u001b[38;5;241m2\u001b[39m\n\u001b[0;32m----> 5\u001b[0m actual_sum \u001b[38;5;241m=\u001b[39m \u001b[38;5;28;43msum\u001b[39;49m\u001b[43m(\u001b[49m\u001b[43mnumbers\u001b[49m\u001b[43m)\u001b[49m\n\u001b[1;32m      7\u001b[0m missing \u001b[38;5;241m=\u001b[39m expected_sum \u001b[38;5;241m-\u001b[39m actual_sum\n\u001b[1;32m      8\u001b[0m \u001b[38;5;28mprint\u001b[39m(\u001b[38;5;124m\"\u001b[39m\u001b[38;5;124mMissing number:\u001b[39m\u001b[38;5;124m\"\u001b[39m, missing)\n",
      "\u001b[0;31mTypeError\u001b[0m: 'int' object is not callable"
     ]
    }
   ],
   "source": [
    "#13\n",
    "numbers = [1, 2, 4, 5, 6]\n",
    "n = len(numbers) + 1  # Since one number is missing\n",
    "expected_sum = n * (n + 1) // 2\n",
    "actual_sum = sum(numbers)\n",
    "\n",
    "missing = expected_sum - actual_sum\n",
    "print(\"Missing number:\", missing)\n",
    "\n"
   ]
  },
  {
   "cell_type": "code",
   "execution_count": 64,
   "metadata": {},
   "outputs": [
    {
     "name": "stdout",
     "output_type": "stream",
     "text": [
      "first non repeting 1\n"
     ]
    }
   ],
   "source": [
    "#14\n",
    "numbers = [4, 5, 1, 2, 0, 4, 5, 2]\n",
    "frequency={}\n",
    "for i in numbers:\n",
    "    frequency[i]=frequency.get(i,0)+1  \n",
    "frequency  \n",
    "\n",
    "for i in numbers:\n",
    "    if frequency[i]==1:\n",
    "        print(\"first non repeting\",i)\n",
    "        break"
   ]
  },
  {
   "cell_type": "code",
   "execution_count": 65,
   "metadata": {},
   "outputs": [
    {
     "data": {
      "text/plain": [
       "{4: 2, 5: 2, 1: 1, 2: 2, 0: 1}"
      ]
     },
     "execution_count": 65,
     "metadata": {},
     "output_type": "execute_result"
    }
   ],
   "source": [
    "numbers = [4, 5, 1, 2, 0, 4, 5, 2]\n",
    "frequency={}\n",
    "for i in numbers:\n",
    "    if i not in frequency.keys():\n",
    "        frequency[i]=1\n",
    "    else:\n",
    "        frequency[i]=frequency[i]+1\n",
    "frequency"
   ]
  },
  {
   "cell_type": "code",
   "execution_count": 72,
   "metadata": {},
   "outputs": [
    {
     "name": "stdout",
     "output_type": "stream",
     "text": [
      "[1, 3, 12, 0, 0]\n"
     ]
    }
   ],
   "source": [
    "#16\n",
    "numbers = [0, 1, 0, 3, 12]\n",
    "pos=0\n",
    "\n",
    "for i in range(len(numbers)):\n",
    "    if numbers[i]!=0:\n",
    "        numbers[pos]=numbers[i]\n",
    "        pos+=1\n",
    "\n",
    "while pos < len(numbers):\n",
    "    numbers[pos] = 0\n",
    "    pos += 1\n",
    "\n",
    "print(numbers)"
   ]
  },
  {
   "cell_type": "code",
   "execution_count": 78,
   "metadata": {},
   "outputs": [
    {
     "data": {
      "text/plain": [
       "[3, 6, 8]"
      ]
     },
     "execution_count": 78,
     "metadata": {},
     "output_type": "execute_result"
    }
   ],
   "source": [
    "#17\n",
    "numbers = [1, 3, 2, 6, 5, 8, 7]\n",
    "element=[]\n",
    "for i in range(len(numbers)-1):\n",
    "    for j in range(i+1,i+2):\n",
    "        if numbers[i]<numbers[j]:\n",
    "            element.append(numbers[j])\n",
    "            \n",
    "element   "
   ]
  },
  {
   "cell_type": "code",
   "execution_count": 83,
   "metadata": {},
   "outputs": [
    {
     "name": "stdout",
     "output_type": "stream",
     "text": [
      "[[-1, 0, 1], [-1, -1, 2]]\n"
     ]
    }
   ],
   "source": [
    "#18\n",
    "num = [-1, 0, 1, 2, -1, -4]\n",
    "triplet=[]\n",
    "\n",
    "for i in range(len(num)-2):\n",
    "    j=i+1\n",
    "    k=j+1\n",
    "    while k<len(num):\n",
    "        if num[i]+num[j]+num[k]==0:\n",
    "            triplet.append((num[i],num[j],num[k]))\n",
    "        k+=1\n",
    "    i+=1\n",
    "triplet"
   ]
  },
  {
   "cell_type": "code",
   "execution_count": null,
   "metadata": {},
   "outputs": [],
   "source": [
    "num = [-1, 0, 1, 2, -1, -4]\n",
    "triplet = []\n",
    "\n",
    "n = len(num)\n",
    "\n",
    "for i in range(n):\n",
    "    for j in range(i + 1, n):\n",
    "        for k in range(j + 1, n):\n",
    "            if num[i] + num[j] + num[k] == 0:\n",
    "                combo = sorted([num[i], num[j], num[k]])\n",
    "                if combo not in triplet:\n",
    "                    triplet.append(combo)\n",
    "\n",
    "print(triplet)\n"
   ]
  }
 ],
 "metadata": {
  "kernelspec": {
   "display_name": "Python 3",
   "language": "python",
   "name": "python3"
  },
  "language_info": {
   "codemirror_mode": {
    "name": "ipython",
    "version": 3
   },
   "file_extension": ".py",
   "mimetype": "text/x-python",
   "name": "python",
   "nbconvert_exporter": "python",
   "pygments_lexer": "ipython3",
   "version": "3.11.1"
  }
 },
 "nbformat": 4,
 "nbformat_minor": 2
}
