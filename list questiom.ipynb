{
 "cells": [
  {
   "cell_type": "code",
   "execution_count": 1,
   "id": "7093de3a",
   "metadata": {},
   "outputs": [],
   "source": [
    " def containsDuplicate(self, nums):\n",
    "        \n",
    "        dup_dict={}\n",
    "        for num in nums:\n",
    "            if num in dup_dict:\n",
    "                return True\n",
    "            else:\n",
    "                dup_dict[num]= 1\n",
    "        return False"
   ]
  },
  {
   "cell_type": "code",
   "execution_count": 3,
   "id": "4020c5b3",
   "metadata": {},
   "outputs": [],
   "source": [
    "def twoSum(self, nums, target):\n",
    "        \n",
    "        for i in range(len(nums)):\n",
    "            for j in range(i+1,len(nums)):\n",
    "                    if nums[i]+nums[j]==target:\n",
    "                        return [i,j]"
   ]
  },
  {
   "cell_type": "code",
   "execution_count": null,
   "id": "6849172d",
   "metadata": {},
   "outputs": [],
   "source": []
  }
 ],
 "metadata": {
  "kernelspec": {
   "display_name": "Python 3 (ipykernel)",
   "language": "python",
   "name": "python3"
  },
  "language_info": {
   "codemirror_mode": {
    "name": "ipython",
    "version": 3
   },
   "file_extension": ".py",
   "mimetype": "text/x-python",
   "name": "python",
   "nbconvert_exporter": "python",
   "pygments_lexer": "ipython3",
   "version": "3.11.1"
  }
 },
 "nbformat": 4,
 "nbformat_minor": 5
}
