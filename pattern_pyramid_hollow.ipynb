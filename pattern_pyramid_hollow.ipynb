{
 "cells": [
  {
   "cell_type": "code",
   "execution_count": 2,
   "id": "7b551792",
   "metadata": {},
   "outputs": [
    {
     "name": "stdout",
     "output_type": "stream",
     "text": [
      "* * * * \n",
      "  * * * * \n",
      "    * * * * \n",
      "      * * * * \n"
     ]
    }
   ],
   "source": [
    "for i in range(1,5):\n",
    "    for s in range(1,i):\n",
    "        print(\" \",end=\" \")\n",
    "    for j in range(1,5):\n",
    "        print(\"*\",end=\" \")\n",
    "    print()"
   ]
  },
  {
   "cell_type": "code",
   "execution_count": 22,
   "id": "d74623a3",
   "metadata": {},
   "outputs": [
    {
     "name": "stdout",
     "output_type": "stream",
     "text": [
      "* * * * \n",
      "*     * \n",
      "*     * \n",
      "*     * \n",
      "* * * * \n"
     ]
    }
   ],
   "source": [
    "for i in range(1,6):\n",
    "    for j in range(1,5):\n",
    "        if j==1   or j==4 or i==1 or i==5 :\n",
    "            print(\"*\",end=\" \")\n",
    "        else:\n",
    "            print(\" \",end=\" \")\n",
    "    print()"
   ]
  },
  {
   "cell_type": "code",
   "execution_count": 30,
   "id": "a476b84c",
   "metadata": {},
   "outputs": [
    {
     "name": "stdout",
     "output_type": "stream",
     "text": [
      "A \n",
      "A B \n",
      "A B C \n",
      "A B C D \n",
      "A B C D E \n"
     ]
    }
   ],
   "source": [
    "row=6\n",
    "col=6\n",
    "\n",
    "for i in range(1,row):\n",
    "    char=\"A\"\n",
    "    for j in range(1,i+1):\n",
    "        print(char,end=\" \")\n",
    "        char=chr(ord(char)+1)  \n",
    "    print()"
   ]
  },
  {
   "cell_type": "code",
   "execution_count": 32,
   "id": "8ce554fc",
   "metadata": {},
   "outputs": [
    {
     "name": "stdout",
     "output_type": "stream",
     "text": [
      "A \n",
      "B B \n",
      "C C C \n",
      "D D D D \n",
      "E E E E E \n"
     ]
    }
   ],
   "source": [
    "row=6\n",
    "col=6\n",
    "char=\"A\"\n",
    "for i in range(1,row):\n",
    "    for j in range(1,i+1):\n",
    "        print(char,end=\" \")\n",
    "    char=chr(ord(char)+1)  \n",
    "    print()"
   ]
  },
  {
   "cell_type": "code",
   "execution_count": 40,
   "id": "c61e5091",
   "metadata": {},
   "outputs": [
    {
     "name": "stdout",
     "output_type": "stream",
     "text": [
      "E \n",
      "D E \n",
      "C D E \n",
      "B C D E \n",
      "A B C D E \n"
     ]
    }
   ],
   "source": [
    "row=6\n",
    "col=6\n",
    "for i in range(1,row):\n",
    "    char=\"E\"\n",
    "    char=chr(ord(char)-i)\n",
    "    for j in range(1,i+1):\n",
    "        char=chr(ord(char)+1) \n",
    "        print(char,end=\" \")   \n",
    "    print()"
   ]
  },
  {
   "cell_type": "code",
   "execution_count": 261,
   "id": "2c23fabc",
   "metadata": {},
   "outputs": [
    {
     "name": "stdout",
     "output_type": "stream",
     "text": [
      "          * \n",
      "        * * \n",
      "      * * * \n",
      "    * * * * \n",
      "  * * * * * \n"
     ]
    }
   ],
   "source": [
    "row=6\n",
    "col=6\n",
    "for i in range(1,row):\n",
    "    for s in range(row,i,-1):\n",
    "        print(\" \",end=\" \")\n",
    "    for j in range(1,i+1):\n",
    "        print(\"*\",end=\" \")   \n",
    "    print()"
   ]
  },
  {
   "cell_type": "code",
   "execution_count": 48,
   "id": "1fd9e59a",
   "metadata": {},
   "outputs": [
    {
     "name": "stdout",
     "output_type": "stream",
     "text": [
      "        1 \n",
      "      1 2 \n",
      "    1 2 3 \n",
      "  1 2 3 4 \n",
      "1 2 3 4 5 \n"
     ]
    }
   ],
   "source": [
    "row=6\n",
    "col=6\n",
    "for i in range(1,row):\n",
    "    for s in range(row-i,1,-1):\n",
    "        print(\" \",end=\" \")\n",
    "    for j in range(1,i+1):\n",
    "        print(j,end=\" \")   \n",
    "    print()"
   ]
  },
  {
   "cell_type": "code",
   "execution_count": 55,
   "id": "3b997266",
   "metadata": {},
   "outputs": [
    {
     "name": "stdout",
     "output_type": "stream",
     "text": [
      "1 2 3 4 5 \n",
      "  1 2 3 4 \n",
      "    1 2 3 \n",
      "      1 2 \n",
      "        1 \n"
     ]
    }
   ],
   "source": [
    "row=6\n",
    "col=6\n",
    "for i in range(1,row):\n",
    "    for s in range(1,i):\n",
    "        print(\" \",end=\" \")\n",
    "    for j in range(1,col-i+1):\n",
    "        print(j,end=\" \")   \n",
    "    print()"
   ]
  },
  {
   "cell_type": "code",
   "execution_count": 59,
   "id": "e14f921f",
   "metadata": {},
   "outputs": [
    {
     "name": "stdout",
     "output_type": "stream",
     "text": [
      "A B C D E \n",
      "  A B C D \n",
      "    A B C \n",
      "      A B \n",
      "        A \n"
     ]
    }
   ],
   "source": [
    "row=6\n",
    "col=6\n",
    "char=\"A\"\n",
    "for i in range(1,row):\n",
    "    char=\"A\"\n",
    "    for s in range(1,i):\n",
    "        print(\" \",end=\" \")\n",
    "    for j in range(1,col-i+1):\n",
    "        print(char,end=\" \")\n",
    "        char=chr(ord(char)+1)\n",
    "    print()    "
   ]
  },
  {
   "cell_type": "code",
   "execution_count": 68,
   "id": "74742bbd",
   "metadata": {},
   "outputs": [
    {
     "name": "stdout",
     "output_type": "stream",
     "text": [
      "     1 2 3 4 5 \n",
      "    1 2 3 4 5 \n",
      "   1 2 3 4 5 \n",
      "  1 2 3 4 5 \n",
      " 1 2 3 4 5 \n"
     ]
    }
   ],
   "source": [
    "row=6\n",
    "col=6\n",
    "for i in range(row,1,-1):\n",
    "    for s in range(1,i):\n",
    "        print(\"\",end=\" \")\n",
    "    for j in range(1,col):\n",
    "        print(j,end=\" \")   \n",
    "    print()"
   ]
  },
  {
   "cell_type": "code",
   "execution_count": 67,
   "id": "05b56580",
   "metadata": {},
   "outputs": [
    {
     "name": "stdout",
     "output_type": "stream",
     "text": [
      "     * * * * * \n",
      "    * * * * * \n",
      "   * * * * * \n",
      "  * * * * * \n",
      " * * * * * \n"
     ]
    }
   ],
   "source": [
    "row=6\n",
    "col=6\n",
    "for i in range(row,1,-1):\n",
    "    for s in range(1,i):\n",
    "        print(\"\",end=\" \")\n",
    "    for j in range(1,col):\n",
    "        print(\"*\",end=\" \")   \n",
    "    print()"
   ]
  },
  {
   "cell_type": "code",
   "execution_count": 66,
   "id": "e403e3bf",
   "metadata": {},
   "outputs": [
    {
     "name": "stdout",
     "output_type": "stream",
     "text": [
      "     A B C D E \n",
      "    A B C D E \n",
      "   A B C D E \n",
      "  A B C D E \n",
      " A B C D E \n"
     ]
    }
   ],
   "source": [
    "row=6\n",
    "col=6\n",
    "\n",
    "for i in range(row,1,-1):\n",
    "    char=\"A\"\n",
    "    for s in range(1,i):\n",
    "        print(\"\",end=\" \")\n",
    "    for j in range(1,col):\n",
    "        print(char,end=\" \")\n",
    "        char=chr(ord(char)+1)\n",
    "    print()"
   ]
  },
  {
   "cell_type": "code",
   "execution_count": 84,
   "id": "b6cdbdd9",
   "metadata": {},
   "outputs": [
    {
     "name": "stdout",
     "output_type": "stream",
     "text": [
      "      * \n",
      "     \n",
      "    * * * \n",
      "   \n",
      "  * * * * * \n",
      " \n",
      "* * * * * * * \n"
     ]
    }
   ],
   "source": [
    "row=8\n",
    "col=8\n",
    "for i in range(1,row):\n",
    "    for s in range(col-i,1,-1):\n",
    "        print(\"\",end=\" \")\n",
    "    for j in range(1,i+1):\n",
    "        if i%2!=0:\n",
    "            print(\"*\",end=\" \")   \n",
    "    print()"
   ]
  },
  {
   "cell_type": "code",
   "execution_count": 239,
   "id": "268ed0a7",
   "metadata": {},
   "outputs": [
    {
     "name": "stdout",
     "output_type": "stream",
     "text": [
      "      * \n",
      "     \n",
      "    *   * \n",
      "   \n",
      "  *       * \n",
      " \n",
      "* * * * * * * \n"
     ]
    }
   ],
   "source": [
    "row=8\n",
    "col=8\n",
    "for i in range(1,row):\n",
    "    for s in range(col-i,1,-1):\n",
    "        print(\"\",end=\" \")\n",
    "    for j in range(1,i+1):\n",
    "        if i%2!=0:\n",
    "            if i==1 or i==row-1 or j==1 or j==i:\n",
    "                print(\"*\",end=\" \")\n",
    "            else:\n",
    "                print(\" \",end=\" \")   \n",
    "    print()"
   ]
  },
  {
   "cell_type": "code",
   "execution_count": 116,
   "id": "faf5e642",
   "metadata": {},
   "outputs": [
    {
     "name": "stdout",
     "output_type": "stream",
     "text": [
      "* * * * * * * \n",
      " \n",
      "  * * * * * \n",
      "   \n",
      "    * * * \n",
      "     \n",
      "      * \n"
     ]
    }
   ],
   "source": [
    "row=8\n",
    "col=8\n",
    "for i in range(1,row):\n",
    "    for s in range(1,i):\n",
    "        print(\"\",end=\" \")\n",
    "    for j in range(col,i,-1):\n",
    "        if i%2!=0:\n",
    "            print(\"*\",end=\" \")   \n",
    "    print()"
   ]
  },
  {
   "cell_type": "code",
   "execution_count": 126,
   "id": "91191c49",
   "metadata": {},
   "outputs": [
    {
     "name": "stdout",
     "output_type": "stream",
     "text": [
      "      * \n",
      "     \n",
      "    * * * \n",
      "   \n",
      "  * * * * * \n",
      " \n",
      "* * * * * * * \n",
      " \n",
      "  * * * * * \n",
      "   \n",
      "    * * * \n",
      "     \n",
      "      * \n"
     ]
    }
   ],
   "source": [
    "row=8\n",
    "col=8\n",
    "for i in range(1,row-1):\n",
    "    for s in range(col-i,1,-1):\n",
    "        print(\"\",end=\" \")\n",
    "    for j in range(1,i+1):\n",
    "        if i%2!=0:\n",
    "            print(\"*\",end=\" \")   \n",
    "    print()\n",
    "for i in range(1,row):\n",
    "    for s in range(1,i):\n",
    "        print(\"\",end=\" \")\n",
    "    for j in range(col,i,-1):\n",
    "        if i%2!=0:\n",
    "            print(\"*\",end=\" \")   \n",
    "    print()"
   ]
  },
  {
   "cell_type": "code",
   "execution_count": 141,
   "id": "91f7b047",
   "metadata": {},
   "outputs": [
    {
     "name": "stdout",
     "output_type": "stream",
     "text": [
      "* \n",
      "* * \n",
      "* * * \n",
      "* * * * \n",
      "* * * \n",
      "* * \n",
      "* \n"
     ]
    }
   ],
   "source": [
    "row=5\n",
    "col=5\n",
    "char=\"A\"\n",
    "for i in range(1,row):\n",
    "    for j in range(1,i+1):\n",
    "        print(\"*\",end=\" \")\n",
    "    print()\n",
    "for i in range(2,row):\n",
    "    for j in range(col,i,-1):\n",
    "        print(\"*\",end=\" \")\n",
    "    print()        "
   ]
  },
  {
   "cell_type": "code",
   "execution_count": 142,
   "id": "e99b2e50",
   "metadata": {},
   "outputs": [
    {
     "name": "stdout",
     "output_type": "stream",
     "text": [
      "        * \n",
      "      * * \n",
      "    * * * \n",
      "  * * * * \n",
      "    * * * \n",
      "      * * \n",
      "        * \n"
     ]
    }
   ],
   "source": [
    "row=5\n",
    "col=5\n",
    "for i in range(1,row):\n",
    "    for s in range(i,col):\n",
    "        print(\" \",end=\" \")\n",
    "    for j in range(1,i+1):\n",
    "        print(\"*\",end=\" \")\n",
    "    print()\n",
    "for i in range(2,row):\n",
    "    for s in range(1,i+1):\n",
    "        print(\" \",end=\" \")\n",
    "    for j in range(col,i,-1):\n",
    "        print(\"*\",end=\" \")\n",
    "    print()         \n"
   ]
  },
  {
   "cell_type": "code",
   "execution_count": 147,
   "id": "46db6424",
   "metadata": {},
   "outputs": [
    {
     "name": "stdout",
     "output_type": "stream",
     "text": [
      "1 \n",
      "1 2 \n",
      "1 2 3 \n",
      "1 2 3 4 \n",
      "1 2 3 4 5 \n"
     ]
    }
   ],
   "source": [
    "row=6\n",
    "col=6\n",
    "for i in range(1,row):\n",
    "    for j in range(1,i+1):\n",
    "        print(j,end=\" \")\n",
    "    print()"
   ]
  },
  {
   "cell_type": "code",
   "execution_count": 153,
   "id": "10b27db2",
   "metadata": {},
   "outputs": [
    {
     "name": "stdout",
     "output_type": "stream",
     "text": [
      "1 2 3 4 5 \n",
      "1 2 3 4 \n",
      "1 2 3 \n",
      "1 2 \n",
      "1 \n"
     ]
    }
   ],
   "source": [
    "row=6\n",
    "col=6\n",
    "for i in range(row,1,-1):\n",
    "    for j in range(1,i):\n",
    "        print(j,end=\" \")\n",
    "    print()"
   ]
  },
  {
   "cell_type": "code",
   "execution_count": 162,
   "id": "dd1f93bf",
   "metadata": {},
   "outputs": [
    {
     "name": "stdout",
     "output_type": "stream",
     "text": [
      "1 \n",
      "1 2 \n",
      "1   3 \n",
      "1     4 \n",
      "1 2 3 4 5 \n"
     ]
    }
   ],
   "source": [
    "row=6\n",
    "col=6\n",
    "for i in range(1,row):\n",
    "    for j in range(1,i+1):\n",
    "        if i==j or j==1 or i==row-1:\n",
    "            print(j,end=\" \")\n",
    "        else:\n",
    "            print(\" \",end=\" \")\n",
    "    print()"
   ]
  },
  {
   "cell_type": "code",
   "execution_count": 183,
   "id": "fef3fddc",
   "metadata": {},
   "outputs": [
    {
     "name": "stdout",
     "output_type": "stream",
     "text": [
      "1 2 3 4 5 \n",
      "1     4 \n",
      "1   3 \n",
      "1 2 \n",
      "1 \n"
     ]
    }
   ],
   "source": [
    "row=6\n",
    "col=6\n",
    "for i in range(1,row):\n",
    "    for j in range(1,col-i+1):\n",
    "        if i+j==row or i==1 or j==1 :\n",
    "            print(j,end=\" \")\n",
    "        else:\n",
    "            print(\" \",end=\" \")\n",
    "    print()"
   ]
  },
  {
   "cell_type": "code",
   "execution_count": 194,
   "id": "b13c9772",
   "metadata": {},
   "outputs": [
    {
     "name": "stdout",
     "output_type": "stream",
     "text": [
      "          1 \n",
      "        2 3 2 \n",
      "      3 4 5 4 3 \n",
      "    4 5 6 7 6 5 4 \n",
      "  5 6 7 8 9 8 7 6 5 \n"
     ]
    }
   ],
   "source": [
    "row=6\n",
    "col=6\n",
    "\n",
    "for i in range(1,row):\n",
    "    count=i\n",
    "    for s in range(col,i,-1):\n",
    "        print(\" \",end=\" \")\n",
    "    for j in range(1,i+1):\n",
    "        print(count,end=\" \")\n",
    "        count+=1\n",
    "    count-=2\n",
    "    for j in range(1,i):\n",
    "        print(count,end=\" \")\n",
    "        count-=1\n",
    "    print()\n"
   ]
  },
  {
   "cell_type": "code",
   "execution_count": 195,
   "id": "bb0f9b64",
   "metadata": {},
   "outputs": [
    {
     "name": "stdout",
     "output_type": "stream",
     "text": [
      "          1 \n",
      "        2 3 2 \n",
      "      3 4 5 4 3 \n",
      "    4 5 6 7 6 5 4 \n",
      "  5 6 7 8 9 8 7 6 5 \n"
     ]
    }
   ],
   "source": [
    "row=6\n",
    "col=6\n",
    "\n",
    "for i in range(1,row):\n",
    "    count=i\n",
    "    for s in range(col,i,-1):\n",
    "        print(\" \",end=\" \")\n",
    "    for l in range(1,i+1):\n",
    "        print(count,end=\" \")\n",
    "        count+=1\n",
    "    count-=2\n",
    "    for r in range(1,i):\n",
    "        print(count,end=\" \")\n",
    "        count-=1\n",
    "    print()\n",
    "\n",
    "    "
   ]
  },
  {
   "cell_type": "code",
   "execution_count": 250,
   "id": "1fcdbc0c",
   "metadata": {},
   "outputs": [
    {
     "name": "stdout",
     "output_type": "stream",
     "text": [
      "          1 \n",
      "         \n",
      "        1   3 \n",
      "       \n",
      "      1       5 \n",
      "     \n",
      "    1           7 \n",
      "   \n",
      "  1 2 3 4 5 6 7 8 9 \n"
     ]
    }
   ],
   "source": [
    "row=10\n",
    "col=10\n",
    "\n",
    "for i in range(1,row):\n",
    "    count=1\n",
    "    for s in range(col,i-1,-1):\n",
    "        print(\"\",end=\" \")\n",
    "    for j in range(1,i+1):\n",
    "        if i%2!=0:\n",
    "            if  i==row-1 or j==1 or j==i:\n",
    "                print(count,end=\" \")\n",
    "            else:\n",
    "                print(\" \",end=\" \")  \n",
    "            \n",
    "        count+=1\n",
    "    print()\n",
    " "
   ]
  },
  {
   "cell_type": "code",
   "execution_count": 260,
   "id": "2ed19323",
   "metadata": {},
   "outputs": [
    {
     "name": "stdout",
     "output_type": "stream",
     "text": [
      "        1 \n",
      "      1   3 \n",
      "    1       5 \n",
      "  1 2 3 4 5 6 7 \n"
     ]
    }
   ],
   "source": [
    "row=5\n",
    "col=5\n",
    "\n",
    "for i in range(1,row):\n",
    "    count=1\n",
    "    for s in range(1,col-i+1):\n",
    "        print(\" \",end=\" \")\n",
    "    for j in range(1,2*i):\n",
    "        if  i==row-1 or j==1 or j==2*i-1:\n",
    "            print(count,end=\" \")\n",
    "        else:\n",
    "            print(\" \",end=\" \") \n",
    "        count+=1\n",
    "    print()\n",
    " "
   ]
  },
  {
   "cell_type": "code",
   "execution_count": 265,
   "id": "2f512342",
   "metadata": {},
   "outputs": [
    {
     "name": "stdout",
     "output_type": "stream",
     "text": [
      "        * \n",
      "      * * * \n",
      "    * * * * * \n",
      "  * * * * * * * \n",
      "* * * * * * * * * \n"
     ]
    }
   ],
   "source": [
    "num=5\n",
    "for i in range(1,num+1):\n",
    "    for s in range(i,num):\n",
    "        print(\" \",end=\" \")\n",
    "    for j in range(1,2*i):\n",
    "        print(\"*\",end=\" \")\n",
    "    print()"
   ]
  },
  {
   "cell_type": "code",
   "execution_count": 270,
   "id": "2ca830a3",
   "metadata": {},
   "outputs": [
    {
     "name": "stdout",
     "output_type": "stream",
     "text": [
      "1 \n",
      "1 0 \n",
      "1 0 1 \n",
      "1 0 1 0 \n",
      "1 0 1 0 1 \n"
     ]
    }
   ],
   "source": [
    "num=5\n",
    "for i in range(1,num+1):\n",
    "    for j in range(1,i+1):\n",
    "        if j%2==0:\n",
    "            print(\"0\",end=\" \")\n",
    "        else:\n",
    "            print(\"1\",end=\" \")\n",
    "    print()"
   ]
  },
  {
   "cell_type": "code",
   "execution_count": 281,
   "id": "fcec5cad",
   "metadata": {},
   "outputs": [
    {
     "name": "stdout",
     "output_type": "stream",
     "text": [
      "1 \n",
      "0 1 \n",
      "1 0 1 \n",
      "0 1 0 1 \n",
      "1 0 1 0 1 \n"
     ]
    }
   ],
   "source": [
    "num=5\n",
    "for i in range(1,num+1):\n",
    "    for j in range(1,i+1):\n",
    "        if (i+j)%2==0:\n",
    "            print(\"1\",end=\" \")\n",
    "        else:\n",
    "            print(\"0\",end=\" \")\n",
    "    print()"
   ]
  },
  {
   "cell_type": "code",
   "execution_count": 289,
   "id": "a6f39b49",
   "metadata": {},
   "outputs": [
    {
     "name": "stdout",
     "output_type": "stream",
     "text": [
      "* * * * * * * \n",
      "  * * * * * \n",
      "    * * * \n",
      "      * \n",
      "        \n"
     ]
    }
   ],
   "source": [
    "num=5\n",
    "for i in range(1,num+1):\n",
    "    for s in range(1,i):\n",
    "        print(\" \",end=\" \")\n",
    "    for j in range(1,2*(num-i)):\n",
    "        print(\"*\",end=\" \")\n",
    "    print()"
   ]
  },
  {
   "cell_type": "code",
   "execution_count": 292,
   "id": "78477aee",
   "metadata": {},
   "outputs": [
    {
     "name": "stdout",
     "output_type": "stream",
     "text": [
      "1 2 3 4 5 \n",
      "  1 2 3 \n",
      "    1 \n",
      "      \n"
     ]
    }
   ],
   "source": [
    "num=4\n",
    "for i in range(1,num+1):\n",
    "    for s in range(1,i):\n",
    "        print(\" \",end=\" \")\n",
    "    for j in range(1,2*(num-i)):\n",
    "        print(j,end=\" \")\n",
    "        j+=1\n",
    "    print()"
   ]
  },
  {
   "cell_type": "code",
   "execution_count": 308,
   "id": "bd85a711",
   "metadata": {},
   "outputs": [
    {
     "name": "stdout",
     "output_type": "stream",
     "text": [
      "   * \n",
      "  * * \n",
      " * * * \n",
      "* * * * \n"
     ]
    }
   ],
   "source": [
    "num=4\n",
    "for i in range(1,num+1):\n",
    "    for s in range(1,num-i+1):\n",
    "        print(\" \",end=\"\")\n",
    "    for j in range(1,i+1):\n",
    "        print(\"*\",end=\" \")\n",
    "        j+=1\n",
    "    print()"
   ]
  },
  {
   "cell_type": "code",
   "execution_count": 326,
   "id": "b419abaa",
   "metadata": {},
   "outputs": [
    {
     "name": "stdout",
     "output_type": "stream",
     "text": [
      "1 2 3 4 5 \n",
      " 2 3 4 5 \n",
      "  3 4 5 \n",
      "   4 5 \n",
      "    5 \n"
     ]
    }
   ],
   "source": [
    "num=5\n",
    "for i in range(1,num+1):\n",
    "    count=i\n",
    "    for s in range(1,i):\n",
    "        print(\" \",end=\"\")\n",
    "    for j in range(i,num+1):\n",
    "        print(count,end=\" \")\n",
    "        count+=1\n",
    "    print()"
   ]
  },
  {
   "cell_type": "code",
   "execution_count": 339,
   "id": "7c7512f1",
   "metadata": {},
   "outputs": [
    {
     "name": "stdout",
     "output_type": "stream",
     "text": [
      "    1\n",
      "   212\n",
      "  32123\n",
      " 4321234\n",
      "543212345\n"
     ]
    }
   ],
   "source": [
    "num=5\n",
    "for i in range(1,num+1):\n",
    "    count=i\n",
    "    for s in range(1,num-i+1):\n",
    "        print(\" \",end=\"\")\n",
    "    for j in range(1,i+1):\n",
    "        print(count,end=\"\")\n",
    "        count-=1\n",
    "    count+=2\n",
    "    for k in range(1,i):\n",
    "        print(count,end=\"\")\n",
    "        count+=1\n",
    "    print()    "
   ]
  },
  {
   "cell_type": "code",
   "execution_count": 353,
   "id": "221d9735",
   "metadata": {},
   "outputs": [
    {
     "name": "stdout",
     "output_type": "stream",
     "text": [
      "    * \n",
      "   * * \n",
      "  *   * \n",
      " *     * \n",
      "* * * * * \n"
     ]
    }
   ],
   "source": [
    "num=5\n",
    "for i in range(1,num+1):\n",
    "    for s in range(1,num-i+1):\n",
    "        print(\" \",end=\"\")\n",
    "        \n",
    "    for j in range(1,i+1):\n",
    "        if i==num or j==1 or j==i:\n",
    "            print(\"*\",end=\" \")\n",
    "        else:\n",
    "            print(\" \",end=\" \")\n",
    "        \n",
    "    print()"
   ]
  },
  {
   "cell_type": "code",
   "execution_count": 355,
   "id": "c280b212",
   "metadata": {},
   "outputs": [
    {
     "name": "stdout",
     "output_type": "stream",
     "text": [
      "    1 \n",
      "   1 2 \n",
      "  1   3 \n",
      " 1     4 \n",
      "1 2 3 4 5 \n"
     ]
    }
   ],
   "source": [
    "num=5\n",
    "for i in range(1,num+1):\n",
    "    for s in range(1,num-i+1):\n",
    "        print(\" \",end=\"\")\n",
    "        \n",
    "    for j in range(1,i+1):\n",
    "        if i==num or j==1 or j==i:\n",
    "            print(j,end=\" \")\n",
    "        else:\n",
    "            print(\" \",end=\" \")\n",
    "        \n",
    "    print()"
   ]
  },
  {
   "cell_type": "code",
   "execution_count": 362,
   "id": "2c03cf1c",
   "metadata": {},
   "outputs": [
    {
     "name": "stdout",
     "output_type": "stream",
     "text": [
      "1 2 3 4 5 \n",
      "1     4 \n",
      "1   3 \n",
      "1 2 \n",
      "1 \n",
      "\n"
     ]
    }
   ],
   "source": [
    "num=6\n",
    "for i in range(1,num+1):\n",
    "    for j in range(1,num-i+1):\n",
    "        if i==1 or j==1 or i+j==num :\n",
    "            print(j,end=\" \")\n",
    "        else:\n",
    "            print(\" \",end=\" \")\n",
    "        \n",
    "    print()"
   ]
  },
  {
   "cell_type": "code",
   "execution_count": 482,
   "id": "917c3f75",
   "metadata": {},
   "outputs": [
    {
     "name": "stdout",
     "output_type": "stream",
     "text": [
      "        * \n",
      "      * * * \n",
      "    * * * * * \n",
      "  * * * * * * * \n",
      "* * * * * * * * * \n",
      "  * * * * * * * \n",
      "    * * * * * \n",
      "      * * * \n",
      "        * \n",
      "          \n"
     ]
    }
   ],
   "source": [
    "num=5\n",
    "for i in range(1,num+1):\n",
    "    for s in range(i,num):\n",
    "        print(\" \",end=\" \")\n",
    "    for j in range(1,2*i):\n",
    "        print(\"*\",end=\" \")\n",
    "    print()\n",
    "for i in range(1,num+1):\n",
    "    for s in range(1,i+1):\n",
    "        print(\" \",end=\" \")\n",
    "    for j in range(1,2*(num-i)):\n",
    "        print(\"*\",end=\" \")\n",
    "    print()"
   ]
  },
  {
   "cell_type": "code",
   "execution_count": 484,
   "id": "3854f0c9",
   "metadata": {},
   "outputs": [
    {
     "name": "stdout",
     "output_type": "stream",
     "text": [
      "        1 \n",
      "      1 2 3 \n",
      "    1 2 3 4 5 \n",
      "  1 2 3 4 5 6 7 \n",
      "1 2 3 4 5 6 7 8 9 \n",
      "  1 2 3 4 5 6 7 \n",
      "    1 2 3 4 5 \n",
      "      1 2 3 \n",
      "        1 \n"
     ]
    }
   ],
   "source": [
    "num=5\n",
    "for i in range(1,num+1):\n",
    "    for s in range(i,num):\n",
    "        print(\" \",end=\" \")\n",
    "    for j in range(1,2*i):\n",
    "        print(j,end=\" \")\n",
    "    print()\n",
    "for i in range(1,num):\n",
    "    for s in range(1,i+1):\n",
    "        print(\" \",end=\" \")\n",
    "    for j in range(1,2*(num-i)):\n",
    "        print(j,end=\" \")\n",
    "    print()"
   ]
  },
  {
   "cell_type": "code",
   "execution_count": 481,
   "id": "5e8ee448",
   "metadata": {},
   "outputs": [
    {
     "name": "stdout",
     "output_type": "stream",
     "text": [
      "1 2 3 4 5 6 7 8 9 \n",
      "  1 2 3 4 5 6 7 \n",
      "    1 2 3 4 5 \n",
      "      1 2 3 \n",
      "        1 \n",
      "      1 2 3 \n",
      "    1 2 3 4 5 \n",
      "  1 2 3 4 5 6 7 \n",
      "1 2 3 4 5 6 7 8 9 \n"
     ]
    }
   ],
   "source": [
    "num=5\n",
    "\n",
    "for i in range(1,num+1):\n",
    "    for s in range(1,i):\n",
    "        print(\" \",end=\" \")\n",
    "    for j in range(1,2*(num+1-i)):\n",
    "        print(j,end=\" \")\n",
    "    print()\n",
    "for i in range(2,num+1):\n",
    "    for s in range(i,num):\n",
    "        print(\" \",end=\" \")\n",
    "    for j in range(1,2*i):\n",
    "        print(j,end=\" \")\n",
    "    print()"
   ]
  },
  {
   "cell_type": "code",
   "execution_count": 504,
   "id": "e14588d2",
   "metadata": {},
   "outputs": [
    {
     "name": "stdout",
     "output_type": "stream",
     "text": [
      "1 2 3 4 5 \n",
      "1       5 \n",
      "1       5 \n",
      "1       5 \n",
      "1 2 3 4 5 \n"
     ]
    }
   ],
   "source": [
    "num=5\n",
    "for i in range(1,num+1):\n",
    "    for j in range(1,num+1):\n",
    "        if i==1 or j==1 or i==num or j==num:\n",
    "            print(j,end=\" \")\n",
    "        else:\n",
    "            print(\" \",end=\" \")\n",
    "    print()"
   ]
  },
  {
   "cell_type": "code",
   "execution_count": 516,
   "id": "c3665840",
   "metadata": {},
   "outputs": [
    {
     "name": "stdout",
     "output_type": "stream",
     "text": [
      "    * \n",
      "   * * \n",
      "  *   * \n",
      " *     * \n",
      "*       * \n",
      " *     * \n",
      "  *   * \n",
      "   * * \n",
      "    * \n",
      "     \n"
     ]
    }
   ],
   "source": [
    "num=5\n",
    "for i in range(1,num+1):\n",
    "    for s in range(i,num):\n",
    "        print(\" \",end=\"\")\n",
    "        \n",
    "    for j in range(1,i+1):\n",
    "        if j==1 or j==i:\n",
    "            print(\"*\",end=\" \")\n",
    "        else:\n",
    "            print(\" \",end=\" \")   \n",
    "    print()\n",
    "    \n",
    "for i in range(1,num+1):\n",
    "    for s in range(1,i+1):\n",
    "        print(\" \",end=\"\")\n",
    "    for j in range(i,num):\n",
    "        if j==4 or j==i :\n",
    "            print(\"*\",end=\" \")\n",
    "        else:\n",
    "            print(\" \",end=\" \")\n",
    "    print()"
   ]
  },
  {
   "cell_type": "code",
   "execution_count": null,
   "id": "cee62400",
   "metadata": {},
   "outputs": [],
   "source": []
  }
 ],
 "metadata": {
  "kernelspec": {
   "display_name": "Python 3 (ipykernel)",
   "language": "python",
   "name": "python3"
  },
  "language_info": {
   "codemirror_mode": {
    "name": "ipython",
    "version": 3
   },
   "file_extension": ".py",
   "mimetype": "text/x-python",
   "name": "python",
   "nbconvert_exporter": "python",
   "pygments_lexer": "ipython3",
   "version": "3.11.1"
  }
 },
 "nbformat": 4,
 "nbformat_minor": 5
}
