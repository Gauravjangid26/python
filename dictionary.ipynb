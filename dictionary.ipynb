{
 "cells": [
  {
   "cell_type": "code",
   "execution_count": 5,
   "id": "ab4bf47c",
   "metadata": {},
   "outputs": [
    {
     "name": "stdout",
     "output_type": "stream",
     "text": [
      "{'total': 9}\n"
     ]
    }
   ],
   "source": [
    "mydict={\"total\":0}\n",
    "\n",
    "for i in range(10,19):\n",
    "    mydict[\"total\"]=mydict[\"total\"]+1\n",
    "    \n",
    "print(mydict)"
   ]
  },
  {
   "cell_type": "code",
   "execution_count": 9,
   "id": "4d300010",
   "metadata": {},
   "outputs": [
    {
     "name": "stdout",
     "output_type": "stream",
     "text": [
      "{'heyuser': 7}\n"
     ]
    }
   ],
   "source": [
    "dict={}\n",
    "count=0\n",
    "for i in \"heyuser\":\n",
    "    count+=1\n",
    "dict[\"heyuser\"]=count\n",
    "print(dict)"
   ]
  },
  {
   "cell_type": "code",
   "execution_count": 27,
   "id": "a9131949",
   "metadata": {},
   "outputs": [
    {
     "name": "stdout",
     "output_type": "stream",
     "text": [
      "{'div': 3}\n"
     ]
    }
   ],
   "source": [
    "mydict={\"div\":0}\n",
    "\n",
    "for i in range(1,51):\n",
    "    if i%2==0 and i%7==0:\n",
    "        mydict[\"div\"]=mydict[\"div\"]+1\n",
    "\n",
    "print(mydict)\n",
    "        \n",
    "    "
   ]
  },
  {
   "cell_type": "code",
   "execution_count": 30,
   "id": "52bfcdbe",
   "metadata": {},
   "outputs": [
    {
     "data": {
      "text/plain": [
       "{'a': 2, 'e': 3, 'i': 1, 'o': 1, 'u': 1}"
      ]
     },
     "execution_count": 30,
     "metadata": {},
     "output_type": "execute_result"
    }
   ],
   "source": [
    "vowels = {'a': 0, 'e': 0, 'i': 0, 'o': 0, 'u': 0}\n",
    "s=\"hey hello tushar aei\"\n",
    "for i in s:\n",
    "    if i in vowels:\n",
    "        vowels[i]=vowels[i]+1\n",
    "vowels"
   ]
  },
  {
   "cell_type": "code",
   "execution_count": 41,
   "id": "0d05efa2",
   "metadata": {},
   "outputs": [
    {
     "data": {
      "text/plain": [
       "{'word': 0, 'hey': 2, 'my': 1, 'name': 1, 'is': 2, 'a': 2, 'hello': 1}"
      ]
     },
     "execution_count": 41,
     "metadata": {},
     "output_type": "execute_result"
    }
   ],
   "source": [
    "mydict={\"word\":0}\n",
    "s=\"hey my name is hey is a a hello\".split(\" \")\n",
    "for i in s:\n",
    "    if i not in mydict:\n",
    "        mydict[i]=1\n",
    "    else:\n",
    "        mydict[i]=mydict[i]+1\n",
    "mydict"
   ]
  },
  {
   "cell_type": "code",
   "execution_count": null,
   "id": "61b9a362",
   "metadata": {},
   "outputs": [],
   "source": []
  },
  {
   "cell_type": "code",
   "execution_count": null,
   "id": "3934940b",
   "metadata": {},
   "outputs": [],
   "source": []
  },
  {
   "cell_type": "code",
   "execution_count": null,
   "id": "f47b6ffe",
   "metadata": {},
   "outputs": [],
   "source": []
  },
  {
   "cell_type": "code",
   "execution_count": null,
   "id": "7b5af857",
   "metadata": {},
   "outputs": [],
   "source": []
  },
  {
   "cell_type": "code",
   "execution_count": null,
   "id": "540d9acc",
   "metadata": {},
   "outputs": [],
   "source": []
  },
  {
   "cell_type": "code",
   "execution_count": null,
   "id": "fbe92d35",
   "metadata": {},
   "outputs": [],
   "source": []
  }
 ],
 "metadata": {
  "kernelspec": {
   "display_name": "Python 3 (ipykernel)",
   "language": "python",
   "name": "python3"
  },
  "language_info": {
   "codemirror_mode": {
    "name": "ipython",
    "version": 3
   },
   "file_extension": ".py",
   "mimetype": "text/x-python",
   "name": "python",
   "nbconvert_exporter": "python",
   "pygments_lexer": "ipython3",
   "version": "3.11.1"
  }
 },
 "nbformat": 4,
 "nbformat_minor": 5
}
