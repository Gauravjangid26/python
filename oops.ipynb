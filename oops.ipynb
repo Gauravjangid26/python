{
 "cells": [
  {
   "cell_type": "code",
   "execution_count": 6,
   "id": "dc18e76a",
   "metadata": {},
   "outputs": [
    {
     "name": "stdout",
     "output_type": "stream",
     "text": [
      "100\n",
      "100\n",
      "1000\n",
      "100\n"
     ]
    }
   ],
   "source": [
    "class Employee:\n",
    "    salary=100\n",
    "\n",
    "ram=Employee()\n",
    "shyam=Employee()\n",
    "print(ram.salary)\n",
    "print(shyam.salary)\n",
    "\n",
    "ram.salary=1000\n",
    "shyam=Employee()\n",
    "print(ram.salary)\n",
    "print(shyam.salary)"
   ]
  },
  {
   "cell_type": "code",
   "execution_count": 10,
   "id": "fd705be4",
   "metadata": {},
   "outputs": [
    {
     "name": "stdout",
     "output_type": "stream",
     "text": [
      "sam says soooh \n",
      "rotweiler this is the breed \n",
      "sia says soooh \n",
      "lebrador this is the breed \n"
     ]
    }
   ],
   "source": [
    "#with self\n",
    "class Dog:\n",
    "    def __init__(self,name,breed):#constructor that bind attributes for object\n",
    "        self.name=name   #binding\n",
    "        self.breed=breed #binding\n",
    "    def bark(self):\n",
    "        print(f\"{self.name} says soooh \")\n",
    "        print(f\"{self.breed} this is the breed \")\n",
    "        \n",
    "dog1=Dog(\"sam\",\"rotweiler\")\n",
    "dog2=Dog(\"sia\",\"lebrador\")\n",
    "\n",
    "dog1.bark()\n",
    "dog2.bark()"
   ]
  },
  {
   "cell_type": "code",
   "execution_count": 13,
   "id": "c5471b94",
   "metadata": {},
   "outputs": [
    {
     "ename": "TypeError",
     "evalue": "Dog.__init__() takes 2 positional arguments but 3 were given",
     "output_type": "error",
     "traceback": [
      "\u001b[0;31m---------------------------------------------------------------------------\u001b[0m",
      "\u001b[0;31mTypeError\u001b[0m                                 Traceback (most recent call last)",
      "Cell \u001b[0;32mIn[13], line 10\u001b[0m\n\u001b[1;32m      7\u001b[0m         \u001b[38;5;28mprint\u001b[39m(\u001b[38;5;124mf\u001b[39m\u001b[38;5;124m\"\u001b[39m\u001b[38;5;132;01m{\u001b[39;00mname\u001b[38;5;132;01m}\u001b[39;00m\u001b[38;5;124m says soooh \u001b[39m\u001b[38;5;124m\"\u001b[39m)\u001b[38;5;66;03m#this will cause an error\u001b[39;00m\n\u001b[1;32m      8\u001b[0m         \u001b[38;5;28mprint\u001b[39m(\u001b[38;5;124mf\u001b[39m\u001b[38;5;124m\"\u001b[39m\u001b[38;5;132;01m{\u001b[39;00mbreed\u001b[38;5;132;01m}\u001b[39;00m\u001b[38;5;124m this is the breed \u001b[39m\u001b[38;5;124m\"\u001b[39m)\n\u001b[0;32m---> 10\u001b[0m dog1\u001b[38;5;241m=\u001b[39m\u001b[43mDog\u001b[49m\u001b[43m(\u001b[49m\u001b[38;5;124;43m\"\u001b[39;49m\u001b[38;5;124;43msam\u001b[39;49m\u001b[38;5;124;43m\"\u001b[39;49m\u001b[43m,\u001b[49m\u001b[38;5;124;43m\"\u001b[39;49m\u001b[38;5;124;43mrotweiler\u001b[39;49m\u001b[38;5;124;43m\"\u001b[39;49m\u001b[43m)\u001b[49m\n\u001b[1;32m     11\u001b[0m dog2\u001b[38;5;241m=\u001b[39mDog(\u001b[38;5;124m\"\u001b[39m\u001b[38;5;124msia\u001b[39m\u001b[38;5;124m\"\u001b[39m,\u001b[38;5;124m\"\u001b[39m\u001b[38;5;124mlebrador\u001b[39m\u001b[38;5;124m\"\u001b[39m)\n\u001b[1;32m     13\u001b[0m dog1\u001b[38;5;241m.\u001b[39mbark()\n",
      "\u001b[0;31mTypeError\u001b[0m: Dog.__init__() takes 2 positional arguments but 3 were given"
     ]
    }
   ],
   "source": [
    "#without self\n",
    "class Dog:\n",
    "    def __init__(name,breed):#missing self\n",
    "        name=name   #the won't bind the instance\n",
    "        breed=breed #the won't bind the instance\n",
    "    def bark():\n",
    "        print(f\"{name} says soooh \")#this will cause an error\n",
    "        print(f\"{breed} this is the breed \")\n",
    "        \n",
    "dog1=Dog(\"sam\",\"rotweiler\")\n",
    "dog2=Dog(\"sia\",\"lebrador\")\n",
    "\n",
    "dog1.bark()\n",
    "dog2.bark()"
   ]
  },
  {
   "cell_type": "markdown",
   "id": "ffa19902",
   "metadata": {},
   "source": [
    "# TASK1 - calculator "
   ]
  },
  {
   "cell_type": "code",
   "execution_count": 16,
   "id": "0a80d71b",
   "metadata": {},
   "outputs": [
    {
     "name": "stdout",
     "output_type": "stream",
     "text": [
      "12\n",
      "8\n",
      "20\n",
      "5.0\n"
     ]
    }
   ],
   "source": [
    "class Calculator:\n",
    "    def __init__(self,num1,num2):\n",
    "        self.num1=num1\n",
    "        self.num2=num2\n",
    "    def add(self):\n",
    "        return self.num1+self.num2\n",
    "    def sub(self):\n",
    "        return self.num1-self.num2\n",
    "    def mul(self):\n",
    "        return self.num1*self.num2\n",
    "    def div(self):\n",
    "        if self.num2!=0:\n",
    "            return self.num1/self.num2\n",
    "        else:\n",
    "            return \"division by zero is not allowed\"\n",
    "        \n",
    "cal=Calculator(10,2)\n",
    "print(cal.add())\n",
    "print(cal.sub())\n",
    "print(cal.mul())\n",
    "print(cal.div())\n",
    "    "
   ]
  },
  {
   "cell_type": "markdown",
   "id": "20179482",
   "metadata": {},
   "source": [
    "# TASK2 - bank account class\n"
   ]
  },
  {
   "cell_type": "code",
   "execution_count": 22,
   "id": "ae0d88e8",
   "metadata": {},
   "outputs": [
    {
     "name": "stdout",
     "output_type": "stream",
     "text": [
      "bank balance 0\n",
      "500 is added to acount,new balance 500\n",
      "200 is withdraw successfully from acount,new balance 300\n"
     ]
    }
   ],
   "source": [
    "class Bankaccount:\n",
    "    \n",
    "    def __init__(self,holder_name,balance=0):\n",
    "        self.balance=balance\n",
    "        self.holder_name=holder_name\n",
    "    \n",
    "    def deposit(self,amount):\n",
    "        self.balance+=amount\n",
    "        print(f\"{amount} is added to acount,new balance {self.balance}\")\n",
    "    \n",
    "    def withdraw(self,amount):\n",
    "        if amount<self.balance:\n",
    "            self.balance-=amount\n",
    "            print(f\"{amount} is withdraw successfully from acount,new balance {self.balance}\")\n",
    "        else:\n",
    "            print(\"Insufficient fund\")\n",
    "\n",
    "    def check_balance(self):\n",
    "        print(f\"bank balance {self.balance}\")\n",
    "\n",
    "        \n",
    "ram=Bankaccount(\"ram\")\n",
    "ram.check_balance()\n",
    "ram.deposit(500)\n",
    "ram.withdraw(200)"
   ]
  },
  {
   "cell_type": "markdown",
   "id": "75b74bee",
   "metadata": {},
   "source": [
    "# TASK3 -student details"
   ]
  },
  {
   "cell_type": "code",
   "execution_count": 29,
   "id": "346c414b",
   "metadata": {},
   "outputs": [
    {
     "name": "stdout",
     "output_type": "stream",
     "text": [
      "name of student is ram and roll no is 1\n",
      "pass\n"
     ]
    }
   ],
   "source": [
    "class Student:\n",
    "    def __init__(self,name,rollno,marks):\n",
    "        self.name=name\n",
    "        self.rollno=rollno\n",
    "        self.marks=marks\n",
    "    \n",
    "    def display_details(self):\n",
    "        print(f\"name of student is {self.name} and roll no is {self.rollno}\")\n",
    "    \n",
    "    def status(self):\n",
    "        if self.marks>40:\n",
    "            print(\"pass\")\n",
    "        else:\n",
    "            print(\"fail\")\n",
    "\n",
    "ram=Student(\"ram\",1,55)\n",
    "ram.display_details()\n",
    "ram.status()"
   ]
  },
  {
   "cell_type": "markdown",
   "id": "9e06f231",
   "metadata": {},
   "source": [
    "# TASK4 -annual salary employee"
   ]
  },
  {
   "cell_type": "code",
   "execution_count": 35,
   "id": "f37b1367",
   "metadata": {},
   "outputs": [
    {
     "name": "stdout",
     "output_type": "stream",
     "text": [
      "annual salary is 144000\n",
      "name of employee is ram and id is 1 and salary is 12000\n"
     ]
    }
   ],
   "source": [
    "class Employee:\n",
    "    def __init__(self,name,rollno,salary):\n",
    "        self.name=name\n",
    "        self.rollno=rollno\n",
    "        self.salary=salary\n",
    "        \n",
    "    def cal_salary(self):\n",
    "        self.annual_salary=12*self.salary\n",
    "        print(f\"annual salary is {self.annual_salary}\")\n",
    "    \n",
    "    def details(self):\n",
    "        print(f\"name of employee is {self.name} and id is {self.rollno} and salary is {self.salary}\")\n",
    "\n",
    "ram=Employee(\"ram\",1,12000)\n",
    "ram.cal_salary()\n",
    "ram.details()"
   ]
  },
  {
   "cell_type": "markdown",
   "id": "a9b7e7aa",
   "metadata": {},
   "source": [
    "# TASK5 - library system"
   ]
  },
  {
   "cell_type": "code",
   "execution_count": 45,
   "id": "2b5808a6",
   "metadata": {},
   "outputs": [
    {
     "name": "stdout",
     "output_type": "stream",
     "text": [
      "book flamingo is borrowed\n",
      "book flamingo is not available\n",
      "book flamingo is return\n",
      "book flamingo is available and author is abc\n"
     ]
    }
   ],
   "source": [
    "class Book:\n",
    "    \n",
    "    def __init__(self,title,author):\n",
    "        self.title=title\n",
    "        self.author=author\n",
    "        self.availability=True\n",
    "    \n",
    "    def borrows(self):\n",
    "        if self.availability:\n",
    "            self.availability=False\n",
    "            print(f\"book {self.title} is borrowed\")\n",
    "    \n",
    "    def return_book(self):\n",
    "        if not self.availability:\n",
    "            self.availability=True\n",
    "            print(f\"book {self.title} is return\")\n",
    "    \n",
    "    def check_availability(self):\n",
    "        if self.availability:\n",
    "            print(f\"book {self.title} is available and author is {self.author}\")\n",
    "        else:\n",
    "            print(f\"book {self.title} is not available\")\n",
    "\n",
    "flamingo=Book(\"flamingo\",\"abc\")\n",
    "flamingo.borrows()\n",
    "flamingo.check_availability()\n",
    "flamingo.return_book()\n",
    "flamingo.check_availability()"
   ]
  },
  {
   "cell_type": "code",
   "execution_count": 52,
   "id": "3a00c2d1",
   "metadata": {},
   "outputs": [
    {
     "name": "stdout",
     "output_type": "stream",
     "text": [
      "bank balance 0\n",
      "500 is added to acount,new balance 500\n",
      "200 is withdraw successfully from acount,your account has reached lower limit so 100.0 has been deducted,your current balace is 200.0\n"
     ]
    }
   ],
   "source": [
    "# TASK6 -hdfc bank\n",
    "class Bankaccount:\n",
    "    \n",
    "    def __init__(self,holder_name,balance=0):\n",
    "        self.balance=balance\n",
    "        self.holder_name=holder_name\n",
    "    \n",
    "    def deposit(self,amount):\n",
    "        self.balance+=amount\n",
    "        print(f\"{amount} is added to acount,new balance {self.balance}\")\n",
    "    \n",
    "    def withdraw(self,amount):\n",
    "        if amount<self.balance :\n",
    "            if self.balance<2000:\n",
    "                charge=self.balance*0.2\n",
    "                self.balance-=charge+amount\n",
    "                print(f\"{amount} is withdraw successfully from acount,your account has reached lower limit so {charge} has been deducted,your current balace is {self.balance}\")\n",
    "            else:\n",
    "                self.balance-=amount\n",
    "                print(f\"{amount} is withdraw successfully from acount,new balance {self.balance}\")\n",
    "            \n",
    "        else:\n",
    "            print(\"Insufficient fund\")\n",
    "\n",
    "    def check_balance(self):\n",
    "        print(f\"bank balance {self.balance}\")\n",
    "\n",
    "        \n",
    "ram=Bankaccount(\"ram\")\n",
    "ram.check_balance()\n",
    "ram.deposit(500)\n",
    "ram.withdraw(200)"
   ]
  },
  {
   "cell_type": "code",
   "execution_count": 53,
   "id": "1304f915",
   "metadata": {},
   "outputs": [
    {
     "data": {
      "text/plain": [
       "1"
      ]
     },
     "execution_count": 53,
     "metadata": {},
     "output_type": "execute_result"
    }
   ],
   "source": [
    "class Employee:\n",
    "    def __init__(self,id):\n",
    "        self.__id=id\n",
    "\n",
    "obj=Employee(1)\n",
    "obj._Employee__id\n",
    "    "
   ]
  },
  {
   "cell_type": "code",
   "execution_count": 61,
   "id": "02231922",
   "metadata": {},
   "outputs": [
    {
     "name": "stdout",
     "output_type": "stream",
     "text": [
      "5000 is added to acount,new balance 5000\n",
      "ram\n",
      "5000\n",
      "2000 is withdraw successfully from acount,new balance 3000\n"
     ]
    }
   ],
   "source": [
    "class Bankaccount:\n",
    "    \n",
    "    def __init__(self,holder_name,balance=0):\n",
    "        self.__balance=balance\n",
    "        self.__holder_name=holder_name\n",
    "    \n",
    "    def get_account_details(self):\n",
    "        return self.__holder_name\n",
    "    \n",
    "    def get_account_balance(self):\n",
    "        return self.__balance\n",
    "    \n",
    "    def deposit(self,amount):\n",
    "        self.__balance+=amount\n",
    "        print(f\"{amount} is added to acount,new balance {self.__balance}\")\n",
    "    \n",
    "    def withdraw(self,amount):\n",
    "        if amount<self.__balance:\n",
    "            self.__balance-=amount\n",
    "            print(f\"{amount} is withdraw successfully from acount,new balance {self.__balance}\")\n",
    "        else:\n",
    "            print(\"Insufficient fund\")\n",
    "\n",
    "\n",
    "#using the class        \n",
    "ram=Bankaccount(\"ram\")\n",
    "ram.deposit(5000)\n",
    "print(ram.get_account_details())\n",
    "print(ram.get_account_balance())\n",
    "ram.withdraw(2000)\n",
    "\n",
    "#ram.__holder_name #can't access bcoz it is private attribute"
   ]
  },
  {
   "cell_type": "code",
   "execution_count": 66,
   "id": "be0b2438",
   "metadata": {},
   "outputs": [
    {
     "name": "stdout",
     "output_type": "stream",
     "text": [
      "name  :  ram\n",
      "grade : 80\n",
      "grade changed successfully\n",
      "grade : 90\n"
     ]
    }
   ],
   "source": [
    "#student data\n",
    "class Student:\n",
    "    def __init__(self,name,grade):\n",
    "        self.name=name\n",
    "        self.__grade=grade\n",
    "    \n",
    "    def get_grade(self):\n",
    "        print(f\"grade : {self.__grade}\")\n",
    "    \n",
    "    def set_grade(self,new_grade):\n",
    "        if 0<=new_grade<=100:\n",
    "            self.__grade=new_grade\n",
    "            print(\"grade changed successfully\")\n",
    "            \n",
    "        else:\n",
    "            print(\"Invalid input(0-100)\")\n",
    "    \n",
    "s=Student(\"ram\",80)\n",
    "print(\"name  : \",s.name)\n",
    "s.get_grade()\n",
    "s.set_grade(90)\n",
    "s.get_grade()"
   ]
  },
  {
   "cell_type": "markdown",
   "id": "69db7ed2",
   "metadata": {},
   "source": [
    "# TASK-7 patient record system"
   ]
  },
  {
   "cell_type": "markdown",
   "id": "ea1b5a74",
   "metadata": {},
   "source": [
    "problem:develop a system for managing patient record system in a hospital\n",
    "    \n",
    "    pateint details(name,age,medical record) should be private\n",
    "    \n",
    "    only authorised method habe access to retrieve or update medical history\n",
    "    \n",
    "    provide a methodto add new medical record while keeping old one's"
   ]
  },
  {
   "cell_type": "code",
   "execution_count": 69,
   "id": "77dd05ee",
   "metadata": {},
   "outputs": [
    {
     "data": {
      "text/plain": [
       "\"medical history of patient neta : ['2024:dengue', '2020:covid']\""
      ]
     },
     "execution_count": 69,
     "metadata": {},
     "output_type": "execute_result"
    }
   ],
   "source": [
    "class Patient:\n",
    "    def __init__(self,name,age):\n",
    "        self.__name=name        #encapsulated name,age,history\n",
    "        self.__age=age\n",
    "        self.__medical_history=[]\n",
    "    \n",
    "    def add_medical_record(self,record):\n",
    "        self.__medical_history.append(record)\n",
    "        return f\"medical history of patient {self.__name} added\"\n",
    "    \n",
    "    def get_medical_record(self):\n",
    "        return f\"medical history of patient {self.__name} : {self.__medical_history}\"\n",
    "\n",
    "    \n",
    "\n",
    "patient=Patient(\"neta\",18)\n",
    "patient.add_medical_record(\"2024:dengue\")\n",
    "patient.add_medical_record(\"2020:covid\")\n",
    "patient.get_medical_record()    "
   ]
  },
  {
   "cell_type": "markdown",
   "id": "d2940f07",
   "metadata": {},
   "source": [
    "# TASK-8 ONLINE EXAMINATION SYSTEM"
   ]
  },
  {
   "cell_type": "code",
   "execution_count": 81,
   "id": "bba1fb20",
   "metadata": {},
   "outputs": [
    {
     "name": "stdout",
     "output_type": "stream",
     "text": [
      "score added for maths : 12\n",
      "score added for DSA : 10\n",
      "average score :11.00 \n"
     ]
    }
   ],
   "source": [
    "#problem: create a system for online examination where\n",
    "    \n",
    "#    student scores are private and cannot be accessed directly\n",
    "    \n",
    "class Exam:\n",
    "    def __init__(self,student_name):\n",
    "        self.__student_name=student_name\n",
    "        self.__scores=[]\n",
    "        \n",
    "    def add_score(self,subject,score):\n",
    "        if 0<=score<=100:\n",
    "            self.__scores.append({\"subject\":subject,\"score\":score})\n",
    "            return f\"score added for {subject} : {score}\"\n",
    "            \n",
    "        else:\n",
    "            print(\"Invalid input(0-100)\")\n",
    "    def cal_avg(self):\n",
    "        if not self.__scores:\n",
    "            return \"no score available\"\n",
    "        total=sum(item[\"score\"] for item in self.__scores)\n",
    "        return f\"average score :{ total/len(self.__scores):.2f} \"\n",
    "                                           \n",
    "    def get_score(self):\n",
    "        return f\"scores for {self.__student_name} : {self.__scores}\"\n",
    "        \n",
    "exam= Exam(\"neta\")\n",
    "print(exam.add_score(\"maths\",12))                                           \n",
    "print(exam.add_score(\"DSA\",10))\n",
    "print(exam.cal_avg())                                          \n",
    "                            \n",
    "        "
   ]
  },
  {
   "cell_type": "markdown",
   "id": "558a2199",
   "metadata": {},
   "source": [
    "# Types of inheritance"
   ]
  },
  {
   "cell_type": "code",
   "execution_count": 89,
   "id": "786992e2",
   "metadata": {},
   "outputs": [
    {
     "data": {
      "text/plain": [
       "'engine is started'"
      ]
     },
     "execution_count": 89,
     "metadata": {},
     "output_type": "execute_result"
    }
   ],
   "source": [
    "class engine:\n",
    "    def start_engine(self):\n",
    "        return \"engine is started\"\n",
    "\n",
    "class wheel:\n",
    "    def rotate_wheel(self):\n",
    "        return \"wheel is rotating\"\n",
    "\n",
    "class Car(engine,wheel):\n",
    "    def drive(self):\n",
    "        return \"this is car\"\n",
    "\n",
    "car=Car()\n",
    "car.start_engine()\n"
   ]
  },
  {
   "cell_type": "code",
   "execution_count": 90,
   "id": "519b99f6",
   "metadata": {},
   "outputs": [
    {
     "name": "stdout",
     "output_type": "stream",
     "text": [
      "dog is barking\n",
      "animal is eating\n",
      "puppy is weeping\n"
     ]
    }
   ],
   "source": [
    "class Animal:\n",
    "    def eat(self):\n",
    "        print(\"animal is eating\")\n",
    "\n",
    "class Dog(Animal):\n",
    "    def bark(self):\n",
    "        print(\"dog is barking\")\n",
    "\n",
    "class Puppy(Dog):\n",
    "    def weep(self):\n",
    "        print(\"puppy is weeping\")\n",
    "    \n",
    "puppy=Puppy()\n",
    "puppy.bark()\n",
    "puppy.eat()\n",
    "puppy.weep()"
   ]
  },
  {
   "cell_type": "markdown",
   "id": "614e3a02",
   "metadata": {},
   "source": [
    "# Case study-1 ecommerceorder management"
   ]
  },
  {
   "cell_type": "code",
   "execution_count": 127,
   "id": "ffc2dd24",
   "metadata": {},
   "outputs": [
    {
     "name": "stdout",
     "output_type": "stream",
     "text": [
      "name of customer neta , contact 7734992120 and product is bat , price is 34\n"
     ]
    }
   ],
   "source": [
    "class Customer:\n",
    "    \n",
    "    def cus(self,name,contact):\n",
    "        self.name=name\n",
    "        self.contact=contact\n",
    "    \n",
    " \n",
    "class Product():\n",
    "    \n",
    "    def pro(self,product,price):\n",
    "        self.product=product\n",
    "        self.price=price\n",
    "        \n",
    "\n",
    "        \n",
    "class Order(Product,Customer):\n",
    "    \n",
    "    def summary(self):\n",
    "        print(f\"name of customer {self.name} , contact {self.contact} and product is {self.product} , price is {self.price}\")\n",
    "    \n",
    "    \n",
    "order=Order()  \n",
    "order.cus(\"neta\",\"7734992120\")\n",
    "order.pro(\"bat\",34)  \n",
    "order.summary()"
   ]
  },
  {
   "cell_type": "markdown",
   "id": "f55b4478",
   "metadata": {},
   "source": [
    "# case study-3: vehicle hierarchy\n",
    "\n",
    "    build a vehicle system in the folowing structure:\n",
    "        \n",
    "        a Vehicle class(speed and fuel)\n",
    "        a car class (inherits vehicle and add battery)\n",
    "        a electric car(inherit car and add battery management)\n",
    "        \n",
    "    requirement:\n",
    "        \n",
    "        vehicle should have method like start() and stop ()\n",
    "        car should ad method for turn_on_ac() and turn_off_ac()        \n",
    "        electric car should have method charge_battery()"
   ]
  },
  {
   "cell_type": "code",
   "execution_count": 150,
   "id": "b30c7d37",
   "metadata": {},
   "outputs": [
    {
     "name": "stdout",
     "output_type": "stream",
     "text": [
      "car is started\n",
      "battery is charging\n",
      "car is stop\n",
      "AC is turned on\n",
      "AC is turned off\n",
      "car is stop\n"
     ]
    }
   ],
   "source": [
    "class Vehicle:\n",
    "    \n",
    "    def __init__(self,speed,fuel):\n",
    "        self.speed=speed\n",
    "        self.fuel=fuel\n",
    "        \n",
    "    def start(self):\n",
    "        if self.fuel>0:\n",
    "            print(\"car is started\")\n",
    "        else:\n",
    "            print(\"no fuel\")\n",
    "            \n",
    "    def stop(self):\n",
    "        print(\"car is stop\")\n",
    "        \n",
    "        \n",
    "class Car(Vehicle):\n",
    "    \n",
    "    def __init__(self,speed,fuel,battery):\n",
    "        super().__init__(speed,fuel)\n",
    "        self.battery=battery\n",
    "    \n",
    "    def turn_on_ac(self):\n",
    "        \n",
    "        if self.battery>0:\n",
    "            print(\"AC is turned on\")\n",
    "        else:\n",
    "            print(\"battery is not charged\")\n",
    "    \n",
    "    def turn_off_ac(self):\n",
    "        print(\"AC is turned off\")\n",
    "        \n",
    "        \n",
    "class Electric(Car):\n",
    "    \n",
    "    def __init__(self,speed,fuel,battery,battery_management=False):\n",
    "        super().__init__(speed,fuel,battery)\n",
    "        self.battery_management=battery_management\n",
    "    \n",
    "    def charge_battery(self):\n",
    "        \n",
    "        if self.battery_management :\n",
    "            print(\"battery is charging\")\n",
    "        \n",
    "        else:\n",
    "            print(\"battery is fully charged\")\n",
    "            \n",
    "\n",
    "electric=Electric(60,50,89,True)       \n",
    "electric.start()\n",
    "electric.charge_battery()\n",
    "electric.stop()\n",
    "electric.turn_on_ac()\n",
    "electric.turn_off_ac()\n",
    "electric.stop()"
   ]
  },
  {
   "cell_type": "code",
   "execution_count": 153,
   "id": "b1d1beac",
   "metadata": {},
   "outputs": [
    {
     "name": "stdout",
     "output_type": "stream",
     "text": [
      "Exam ID: 101, Title: Python Basics\n",
      "Starting exam: Python Basics\n",
      "Q: What is 2+2?\n",
      "1. 1\n",
      "2. 2\n",
      "3. 3\n",
      "4. 4\n",
      "Choose your answer (1/2/3/4): 4\n",
      "Q: Which language is used for OOP?\n",
      "1. Python\n",
      "2. HTML\n",
      "3. SQL\n",
      "4. CSS\n",
      "Choose your answer (1/2/3/4): 1\n",
      "Exam completed. Your score: 20/100\n"
     ]
    }
   ],
   "source": [
    "# Base Class\n",
    "class User:\n",
    "    def __init__(self, userID, name, email, password, role):\n",
    "        self.userID = userID\n",
    "        self.name = name\n",
    "        self.email = email\n",
    "        self.password = password\n",
    "        self.role = role\n",
    "\n",
    "    def login(self, email, password):\n",
    "        return self.email == email and self.password == password\n",
    "\n",
    "    def logout(self):\n",
    "        print(f\"{self.name} has logged out.\")\n",
    "\n",
    "# Derived Class: Student\n",
    "class Student(User):\n",
    "    def __init__(self, userID, name, email, password):\n",
    "        super().__init__(userID, name, email, password, role=\"Student\")\n",
    "        self.enrolledExams = []\n",
    "\n",
    "    def viewExams(self, exams):\n",
    "        for exam in exams:\n",
    "            print(f\"Exam ID: {exam.examID}, Title: {exam.title}\")\n",
    "\n",
    "    def takeExam(self, exam):\n",
    "        print(f\"Starting exam: {exam.title}\")\n",
    "        score = 0\n",
    "        for question in exam.questions:\n",
    "            print(f\"Q: {question.text}\")\n",
    "            for idx, option in enumerate(question.options):\n",
    "                print(f\"{idx + 1}. {option}\")\n",
    "            answer = int(input(\"Choose your answer (1/2/3/4): \")) - 1\n",
    "            if question.validateAnswer(answer):\n",
    "                score += question.marks\n",
    "        print(f\"Exam completed. Your score: {score}/{exam.maxMarks}\")\n",
    "        return score\n",
    "\n",
    "# Derived Class: Admin\n",
    "class Admin(User):\n",
    "    def __init__(self, userID, name, email, password):\n",
    "        super().__init__(userID, name, email, password, role=\"Admin\")\n",
    "\n",
    "    def createExam(self, examID, title, duration, maxMarks):\n",
    "        return Exam(examID, title, duration, maxMarks)\n",
    "\n",
    "# Exam Class\n",
    "class Exam:\n",
    "    def __init__(self, examID, title, duration, maxMarks):\n",
    "        self.examID = examID\n",
    "        self.title = title\n",
    "        self.duration = duration\n",
    "        self.maxMarks = maxMarks\n",
    "        self.questions = []\n",
    "\n",
    "    def addQuestion(self, question):\n",
    "        self.questions.append(question)\n",
    "\n",
    "# Question Class\n",
    "class Question:\n",
    "    def __init__(self, questionID, text, options, correctAnswer, marks):\n",
    "        self.questionID = questionID\n",
    "        self.text = text\n",
    "        self.options = options\n",
    "        self.correctAnswer = correctAnswer\n",
    "        self.marks = marks\n",
    "\n",
    "    def validateAnswer(self, selectedAnswer):\n",
    "        return self.correctAnswer == selectedAnswer\n",
    "\n",
    "# Example Usage\n",
    "admin = Admin(1, \"Admin\", \"admin@example.com\", \"password\")\n",
    "exam = admin.createExam(101, \"Python Basics\", 60, 100)\n",
    "\n",
    "# Adding Questions\n",
    "exam.addQuestion(Question(1, \"What is 2+2?\", [\"1\", \"2\", \"3\", \"4\"], 3, 10))\n",
    "exam.addQuestion(Question(2, \"Which language is used for OOP?\", [\"Python\", \"HTML\", \"SQL\", \"CSS\"], 0, 10))\n",
    "\n",
    "# Student Interaction\n",
    "student = Student(2, \"John\", \"john@example.com\", \"password\")\n",
    "student.viewExams([exam])\n",
    "score = student.takeExam(exam)\n"
   ]
  },
  {
   "cell_type": "code",
   "execution_count": 165,
   "id": "864bcce9",
   "metadata": {},
   "outputs": [
    {
     "data": {
      "text/plain": [
       "60"
      ]
     },
     "execution_count": 165,
     "metadata": {},
     "output_type": "execute_result"
    }
   ],
   "source": [
    "student.login( \"john@example.com\", \"password\")\n"
   ]
  },
  {
   "cell_type": "markdown",
   "id": "4fbebd16",
   "metadata": {},
   "source": [
    "# class method"
   ]
  },
  {
   "cell_type": "code",
   "execution_count": 168,
   "id": "38c86bea",
   "metadata": {},
   "outputs": [
    {
     "name": "stdout",
     "output_type": "stream",
     "text": [
      "Tech solution\n",
      "Futuretech\n"
     ]
    }
   ],
   "source": [
    "class Employee:\n",
    "    company_name=\"Tech solution\"\n",
    "    \n",
    "    def __init__(self,name,salary):\n",
    "        self.name=name\n",
    "        self.salary=salary\n",
    "    \n",
    "    @classmethod\n",
    "    def changecompanyname(cls,new_name):\n",
    "        cls.company_name=new_name\n",
    "        \n",
    "emp1=Employee(\"ram\",10000)\n",
    "emp2=Employee(\"shyam\",14000)\n",
    "\n",
    "#access class attribute\n",
    "print(Employee.company_name)\n",
    "\n",
    "#change class attrbute using class method\n",
    "Employee.changecompanyname(\"Futuretech\")\n",
    "print(Employee.company_name)\n",
    "\n",
    "\n",
    "\n"
   ]
  },
  {
   "cell_type": "code",
   "execution_count": 172,
   "id": "e29982ad",
   "metadata": {},
   "outputs": [
    {
     "name": "stdout",
     "output_type": "stream",
     "text": [
      "6\n",
      "-2\n"
     ]
    },
    {
     "data": {
      "text/plain": [
       "5"
      ]
     },
     "execution_count": 172,
     "metadata": {},
     "output_type": "execute_result"
    }
   ],
   "source": [
    "#static method\n",
    "class math:\n",
    "    \n",
    "    @staticmethod\n",
    "    def add(a,b):\n",
    "        return a+b\n",
    "    \n",
    "    @staticmethod\n",
    "    def sub(a,b):\n",
    "        return a-b\n",
    "print(math.add(2,4))    \n",
    "print(math.sub(2,4))\n",
    "obj=math"
   ]
  },
  {
   "cell_type": "code",
   "execution_count": 175,
   "id": "ae204ca1",
   "metadata": {},
   "outputs": [
    {
     "ename": "TypeError",
     "evalue": "child.__init__() takes 2 positional arguments but 3 were given",
     "output_type": "error",
     "traceback": [
      "\u001b[0;31m---------------------------------------------------------------------------\u001b[0m",
      "\u001b[0;31mTypeError\u001b[0m                                 Traceback (most recent call last)",
      "Cell \u001b[0;32mIn[175], line 19\u001b[0m\n\u001b[1;32m     16\u001b[0m         \u001b[38;5;28msuper\u001b[39m()\u001b[38;5;241m.\u001b[39mgreet()\n\u001b[1;32m     17\u001b[0m         \u001b[38;5;28mprint\u001b[39m(\u001b[38;5;124mf\u001b[39m\u001b[38;5;124m\"\u001b[39m\u001b[38;5;124mI am \u001b[39m\u001b[38;5;132;01m{\u001b[39;00m\u001b[38;5;28mself\u001b[39m\u001b[38;5;241m.\u001b[39mage\u001b[38;5;132;01m}\u001b[39;00m\u001b[38;5;124m from child class\u001b[39m\u001b[38;5;124m\"\u001b[39m)\n\u001b[0;32m---> 19\u001b[0m ch\u001b[38;5;241m=\u001b[39m\u001b[43mchild\u001b[49m\u001b[43m(\u001b[49m\u001b[38;5;124;43m\"\u001b[39;49m\u001b[38;5;124;43msam\u001b[39;49m\u001b[38;5;124;43m\"\u001b[39;49m\u001b[43m,\u001b[49m\u001b[38;5;241;43m12\u001b[39;49m\u001b[43m)\u001b[49m\n\u001b[1;32m     20\u001b[0m ch\u001b[38;5;241m.\u001b[39mgreet()\n",
      "\u001b[0;31mTypeError\u001b[0m: child.__init__() takes 2 positional arguments but 3 were given"
     ]
    }
   ],
   "source": [
    "#super method\n",
    "class parent:\n",
    "    def __init__(self,name):\n",
    "        self.name=name\n",
    "        \n",
    "    def greet(self):\n",
    "        print(f\"hello, I am {self.name} from parent class\")\n",
    "      \n",
    "    \n",
    "class child(parent):\n",
    "    def __init__(self,age):\n",
    "        super().__init__(name)# calls parent method __init__\n",
    "        self.age=age\n",
    "    \n",
    "    def greet(self):\n",
    "        super().greet()\n",
    "        print(f\"I am {self.age} from child class\")\n",
    "        \n",
    "ch=child(\"sam\",12)\n",
    "ch.greet()"
   ]
  },
  {
   "cell_type": "markdown",
   "id": "7f987614",
   "metadata": {},
   "source": [
    "# ONLINE EDUCATION PLATFORM\n",
    "    Scenario: Design a class hierarchy for an online education platform:\n",
    "    Course class (general course details like name and duration).\n",
    "    Instructor class (instructors who teach courses).\n",
    "    LiveCourse class (inherits both Course and Instructor to combine live teaching).\n",
    "    Requirements:\n",
    "    Course should have methods like show_course _details().\n",
    "    Instructor should have methods to display instructor details.\n",
    "    LiveCourse should combine and display course and instructor details."
   ]
  },
  {
   "cell_type": "code",
   "execution_count": 192,
   "id": "0f2ad7d2",
   "metadata": {},
   "outputs": [
    {
     "ename": "NameError",
     "evalue": "name 'course_dt' is not defined",
     "output_type": "error",
     "traceback": [
      "\u001b[0;31m---------------------------------------------------------------------------\u001b[0m",
      "\u001b[0;31mNameError\u001b[0m                                 Traceback (most recent call last)",
      "Cell \u001b[0;32mIn[192], line 39\u001b[0m\n\u001b[1;32m     35\u001b[0m                 \u001b[38;5;28;01mif\u001b[39;00m i\u001b[38;5;241m==\u001b[39mj:\n\u001b[1;32m     36\u001b[0m                     \u001b[38;5;28mprint\u001b[39m(\u001b[38;5;124mf\u001b[39m\u001b[38;5;124m\"\u001b[39m\u001b[38;5;132;01m{\u001b[39;00mi\u001b[38;5;241m.\u001b[39mvalues()\u001b[38;5;132;01m}\u001b[39;00m\u001b[38;5;124m is teach by \u001b[39m\u001b[38;5;132;01m{\u001b[39;00mj\u001b[38;5;241m.\u001b[39mvalues()\u001b[38;5;132;01m}\u001b[39;00m\u001b[38;5;124m\"\u001b[39m)\n\u001b[0;32m---> 39\u001b[0m cr\u001b[38;5;241m=\u001b[39m\u001b[43mLiveCourse\u001b[49m\u001b[43m(\u001b[49m\u001b[43m)\u001b[49m\n\u001b[1;32m     40\u001b[0m cr\u001b[38;5;241m.\u001b[39madd_course(\u001b[38;5;124m\"\u001b[39m\u001b[38;5;124mDSA\u001b[39m\u001b[38;5;124m\"\u001b[39m,\u001b[38;5;241m6\u001b[39m)\n",
      "Cell \u001b[0;32mIn[192], line 30\u001b[0m, in \u001b[0;36mLiveCourse.__init__\u001b[0;34m(self)\u001b[0m\n\u001b[1;32m     29\u001b[0m \u001b[38;5;28;01mdef\u001b[39;00m \u001b[38;5;21m__init__\u001b[39m(\u001b[38;5;28mself\u001b[39m):\n\u001b[0;32m---> 30\u001b[0m     \u001b[38;5;28msuper\u001b[39m()\u001b[38;5;241m.\u001b[39m\u001b[38;5;21m__init__\u001b[39m(\u001b[43mcourse_dt\u001b[49m,instructor)\n",
      "\u001b[0;31mNameError\u001b[0m: name 'course_dt' is not defined"
     ]
    }
   ],
   "source": [
    "class Course:\n",
    "    \n",
    "    def __init__(self):\n",
    "        self.name_course=None\n",
    "        self.duration=None\n",
    "        course_dt= None\n",
    "    \n",
    "    def add_course(self,name_course,duration):\n",
    "        self.course_dt[name_course]=duration\n",
    "        \n",
    "    def show_course_details(self):\n",
    "        for i in course_dt:\n",
    "            print(f\"name of course {i} : {course_dt[i]} duration\")\n",
    "            \n",
    "class Instructor:\n",
    "    def __init__(self):\n",
    "        self.instructor_name=None\n",
    "        self.teach=None\n",
    "        self.instructor={}\n",
    "        \n",
    "    def add_instructor(self,instructor_name,teach):\n",
    "        self.instructor[teach]=instructor_name\n",
    "        \n",
    "    def show_instructor_detail(self):\n",
    "        for i in instructor:\n",
    "            print(f\"name of instructor {i} : {instructor[i]} teach\")\n",
    "            \n",
    "class LiveCourse(Course,Instructor):\n",
    "    def __init__(self):\n",
    "        super().__init__(course_dt,instructor)\n",
    "    \n",
    "    def show_course(self):\n",
    "        for i in course_dt:\n",
    "            for j in instructor:\n",
    "                if i==j:\n",
    "                    print(f\"{i.values()} is teach by {j.values()}\")\n",
    "    \n",
    "        \n",
    "cr=LiveCourse()\n",
    "cr.add_course(\"DSA\",6)"
   ]
  },
  {
   "cell_type": "code",
   "execution_count": 196,
   "id": "b6706ce1",
   "metadata": {},
   "outputs": [
    {
     "name": "stdout",
     "output_type": "stream",
     "text": [
      "28.259999999999998\n",
      "18.84\n"
     ]
    }
   ],
   "source": [
    "from abc import ABC,abstractmethod\n",
    "\n",
    "#abstract class\n",
    "class Shape(ABC):\n",
    "    @abstractmethod\n",
    "    def area(self):\n",
    "        pass\n",
    "    \n",
    "    @abstractmethod\n",
    "    def perimeter(self):\n",
    "        pass\n",
    "    \n",
    "class Circle(Shape):\n",
    "    def __init__(self,radii):\n",
    "        self.radii=radii\n",
    "        self.pi=3.14\n",
    "    \n",
    "    def area(self):\n",
    "        return self.pi*self.radii*self.radii\n",
    "    \n",
    "    def perimeter(self):\n",
    "        return 2*self.pi*self.radii\n",
    "\n",
    "class Rectangle(Shape):\n",
    "    def __init__(self,length,width):\n",
    "        self.width=width\n",
    "        self.length=length\n",
    "    \n",
    "    def area(self):\n",
    "        return self.length*self.width\n",
    "    \n",
    "    def perimeter(self):\n",
    "        return 2*(self.length*self.width)\n",
    "\n",
    "circle=Circle(3)\n",
    "print(circle.area())\n",
    "print(circle.perimeter())"
   ]
  },
  {
   "cell_type": "markdown",
   "id": "ab470488",
   "metadata": {},
   "source": [
    "# polymorphism"
   ]
  },
  {
   "cell_type": "code",
   "execution_count": 198,
   "id": "91e68ca3",
   "metadata": {},
   "outputs": [
    {
     "name": "stdout",
     "output_type": "stream",
     "text": [
      "woof\n",
      "meoww\n",
      "moo\n"
     ]
    }
   ],
   "source": [
    "class Animal:\n",
    "    def speak():\n",
    "        pass #base method with no implementation\n",
    "\n",
    "class dog(Animal):\n",
    "    def speak(self):\n",
    "        return \"woof\"\n",
    "\n",
    "class cat(Animal):\n",
    "    def speak(self):\n",
    "        return \"meoww\"\n",
    "\n",
    "class cow(Animal):\n",
    "    def speak(self):\n",
    "        return \"moo\"\n",
    "    \n",
    "#function to demonstrate polymorphism\n",
    "def make_animal_speak(animal):\n",
    "    print(animal.speak())\n",
    "    \n",
    "#usage\n",
    "animals=[dog(),cat(),cow()]\n",
    "for animal in animals:\n",
    "    make_animal_speak(animal)"
   ]
  },
  {
   "cell_type": "code",
   "execution_count": 206,
   "id": "61227d3f",
   "metadata": {},
   "outputs": [
    {
     "name": "stdout",
     "output_type": "stream",
     "text": [
      "1\n"
     ]
    }
   ],
   "source": [
    "dt={1:\"a\"}\n",
    "for i in dt:\n",
    "    print(i)"
   ]
  },
  {
   "cell_type": "code",
   "execution_count": null,
   "id": "52d847a9",
   "metadata": {},
   "outputs": [],
   "source": []
  }
 ],
 "metadata": {
  "kernelspec": {
   "display_name": "Python 3 (ipykernel)",
   "language": "python",
   "name": "python3"
  },
  "language_info": {
   "codemirror_mode": {
    "name": "ipython",
    "version": 3
   },
   "file_extension": ".py",
   "mimetype": "text/x-python",
   "name": "python",
   "nbconvert_exporter": "python",
   "pygments_lexer": "ipython3",
   "version": "3.11.1"
  }
 },
 "nbformat": 4,
 "nbformat_minor": 5
}
