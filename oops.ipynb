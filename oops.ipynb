{
 "cells": [
  {
   "cell_type": "markdown",
   "metadata": {},
   "source": [
    "               +----------------------------+\n",
    "               |   Object-Oriented          |\n",
    "               |     Programming (OOP)      |\n",
    "               +-------------+--------------+\n",
    "                                |\n",
    "        +---------------------+----------------------+\n",
    "        |                                            |\n",
    "    +------v-------+                             +------v--------+\n",
    "    |  Class                           |          |   Object       |\n",
    "    | (Blueprint)                      |         |                |   \n",
    "    |characteristic->property of class |         |                |\n",
    "    |function(method)->behaviour of cla|        | (Instance)     |\n",
    "    | Ex: House                        |         | Ex: my_house   |\n",
    "    +------+-------+                             +------+---------+\n",
    "        |                                            |\n",
    "        |                                            |\n",
    "    +------v----------+         Uses             +------v----------+\n",
    "    | Encapsulation   |<------------------------| Constructor      |\n",
    "    | (Private data)  |                         | (__init__)       |\n",
    "    | Ex: self.__area |                         | Ex: set values   |\n",
    "    +------+----------+                         +------------------+\n",
    "        |\n",
    "        |\n",
    "    +------v----------+\n",
    "    | Inheritance     |\n",
    "    | (Reuse logic)   |\n",
    "    | Ex: Bungalow    |\n",
    "    +------+----------+\n",
    "        |\n",
    "        |\n",
    "    +------v----------+\n",
    "    | Polymorphism    |\n",
    "    | (Override)      |\n",
    "    | Ex: show_info() |\n",
    "    +-----------------+\n"
   ]
  },
  {
   "cell_type": "code",
   "execution_count": 1,
   "metadata": {},
   "outputs": [],
   "source": [
    "# characterics\n",
    "class House_design:\n",
    "    color='white'\n",
    "    room=4"
   ]
  },
  {
   "cell_type": "code",
   "execution_count": 2,
   "metadata": {},
   "outputs": [
    {
     "name": "stdout",
     "output_type": "stream",
     "text": [
      "white 4\n"
     ]
    }
   ],
   "source": [
    "h1=House_design()#object/insatnce\n",
    "print(h1.color,h1.room)"
   ]
  },
  {
   "cell_type": "code",
   "execution_count": 3,
   "metadata": {},
   "outputs": [],
   "source": [
    "#behaviour\n",
    "class House_design:\n",
    "    color='white'\n",
    "    room=4\n",
    "    def rent(self):\n",
    "        print(\"house will be for rent\")"
   ]
  },
  {
   "cell_type": "code",
   "execution_count": 5,
   "metadata": {},
   "outputs": [
    {
     "name": "stdout",
     "output_type": "stream",
     "text": [
      "white 4\n",
      "house will be for rent\n"
     ]
    }
   ],
   "source": [
    "h1=House_design()#object/insatnce\n",
    "print(h1.color,h1.room)\n",
    "h1.rent()"
   ]
  },
  {
   "cell_type": "code",
   "execution_count": 6,
   "metadata": {},
   "outputs": [
    {
     "name": "stdout",
     "output_type": "stream",
     "text": [
      "white 4\n",
      "orange 4\n"
     ]
    }
   ],
   "source": [
    "h1=House_design()#object/insatnce\n",
    "print(h1.color,h1.room)\n",
    "h1.color=\"orange\"\n",
    "print(h1.color,h1.room)"
   ]
  },
  {
   "cell_type": "code",
   "execution_count": 10,
   "metadata": {},
   "outputs": [
    {
     "name": "stdout",
     "output_type": "stream",
     "text": [
      "orange 4\n"
     ]
    }
   ],
   "source": [
    "#color will change for all insatnce\n",
    "House_design.color=\"orange\" #room and color are class variable-->these change can access object\n",
    "h1=House_design()#object/insatnce\n",
    "print(h1.color,h1.room)\n"
   ]
  },
  {
   "cell_type": "code",
   "execution_count": 11,
   "metadata": {},
   "outputs": [],
   "source": [
    "#constructor ==> function used to initialise memory for an object\n",
    "#default or parameterized\n",
    "\n",
    "class House_design:\n",
    "    def __init__(self):\n",
    "        print('constructor chalu ho gya')"
   ]
  },
  {
   "cell_type": "code",
   "execution_count": 13,
   "metadata": {},
   "outputs": [
    {
     "name": "stdout",
     "output_type": "stream",
     "text": [
      "constructor chalu ho gya\n",
      "<__main__.House_design object at 0x10b152350>\n"
     ]
    }
   ],
   "source": [
    "h1=House_design()\n",
    "print(h1)"
   ]
  },
  {
   "cell_type": "code",
   "execution_count": 18,
   "metadata": {},
   "outputs": [
    {
     "name": "stdout",
     "output_type": "stream",
     "text": [
      "constructor chalu ho gya <__main__.House_design object at 0x10b0f9bd0>\n",
      "<__main__.House_design object at 0x10b0f9bd0>\n"
     ]
    }
   ],
   "source": [
    "class House_design:\n",
    "    def __init__(self): #self is variable that access the current reference object\n",
    "        print('constructor chalu ho gya',self)\n",
    "\n",
    "h1=House_design()\n",
    "print(h1)"
   ]
  },
  {
   "cell_type": "code",
   "execution_count": 20,
   "metadata": {},
   "outputs": [
    {
     "name": "stdout",
     "output_type": "stream",
     "text": [
      "constructor chalu ho gya red\n",
      "<__main__.House_design object at 0x10b0e2310>\n"
     ]
    }
   ],
   "source": [
    "class House_design:\n",
    "    def __init__(self,x): \n",
    "        self.color=x      #object/instace variable\n",
    "        print('constructor chalu ho gya',self.color)\n",
    "\n",
    "h1=House_design(\"red\")\n",
    "print(h1)"
   ]
  },
  {
   "cell_type": "code",
   "execution_count": 21,
   "metadata": {},
   "outputs": [
    {
     "name": "stdout",
     "output_type": "stream",
     "text": [
      "constructor chalu ho gya red 4\n",
      "<__main__.House_design object at 0x10b5f0450>\n"
     ]
    }
   ],
   "source": [
    "class House_design:\n",
    "    def __init__(self,x,y): \n",
    "        self.color=x \n",
    "        self.room=y#object/instace variable\n",
    "        print('constructor chalu ho gya',self.color,self.room)\n",
    "\n",
    "h1=House_design(\"red\",4)\n",
    "print(h1)"
   ]
  },
  {
   "cell_type": "code",
   "execution_count": 22,
   "metadata": {},
   "outputs": [
    {
     "name": "stdout",
     "output_type": "stream",
     "text": [
      "house has color red and room is 4\n"
     ]
    }
   ],
   "source": [
    "class House_design:\n",
    "    def __init__(self,x,y): \n",
    "        self.color=x \n",
    "        self.room=y#object/instace variable\n",
    "    \n",
    "    def info(self):\n",
    "        print(f'house has color {self.color} and room is {self.room}')\n",
    "\n",
    "h1=House_design(\"red\",4)\n",
    "h1.info()"
   ]
  },
  {
   "cell_type": "code",
   "execution_count": 23,
   "metadata": {},
   "outputs": [],
   "source": [
    "# inheritance --> types of inheritance \n",
    "# class variable vs instance varible"
   ]
  },
  {
   "cell_type": "code",
   "execution_count": 24,
   "metadata": {},
   "outputs": [],
   "source": [
    "# inheritance make code reusable from other class\n",
    "#inheriting property and beahviour from other class called inheritance"
   ]
  },
  {
   "cell_type": "code",
   "execution_count": 25,
   "metadata": {},
   "outputs": [],
   "source": [
    "class A:\n",
    "    def info(self):\n",
    "        print(\"this is class function\")"
   ]
  },
  {
   "cell_type": "code",
   "execution_count": 27,
   "metadata": {},
   "outputs": [],
   "source": [
    "class B(A):\n",
    "    def details(self):\n",
    "        print(\"this is detaisl function\")"
   ]
  },
  {
   "cell_type": "code",
   "execution_count": 28,
   "metadata": {},
   "outputs": [
    {
     "name": "stdout",
     "output_type": "stream",
     "text": [
      "this is class function\n"
     ]
    }
   ],
   "source": [
    "b1=B()\n",
    "b1.info()"
   ]
  },
  {
   "cell_type": "code",
   "execution_count": 30,
   "metadata": {},
   "outputs": [
    {
     "name": "stdout",
     "output_type": "stream",
     "text": [
      "this is detaisl function isha\n"
     ]
    }
   ],
   "source": [
    "class A:\n",
    "    name='isha'\n",
    "    def info(self):\n",
    "        print(\"this is class function\")\n",
    "\n",
    "class B(A):\n",
    "    def details(self):\n",
    "        print(\"this is detaisl function\",A.name)\n",
    "        \n",
    "b1=B()\n",
    "b1.details()"
   ]
  },
  {
   "cell_type": "code",
   "execution_count": 32,
   "metadata": {},
   "outputs": [
    {
     "name": "stdout",
     "output_type": "stream",
     "text": [
      "this is detaisl function isha\n"
     ]
    }
   ],
   "source": [
    "class A:\n",
    "    \n",
    "    name='isha'  #class variable\n",
    "    \n",
    "    def __init__(self):  #we will learn how to access instance variable\n",
    "        self.salary=10 #instance/object variable\n",
    "        \n",
    "    def info(self):\n",
    "        print(\"this is class function\")\n",
    "\n",
    "class B(A):\n",
    "    \n",
    "    def details(self):\n",
    "        print(\"this is detaisl function\",A.name)\n",
    "        \n",
    "b1=B()\n",
    "b1.details()"
   ]
  },
  {
   "cell_type": "code",
   "execution_count": null,
   "metadata": {},
   "outputs": [],
   "source": [
    "#"
   ]
  }
 ],
 "metadata": {
  "kernelspec": {
   "display_name": "Python 3",
   "language": "python",
   "name": "python3"
  },
  "language_info": {
   "codemirror_mode": {
    "name": "ipython",
    "version": 3
   },
   "file_extension": ".py",
   "mimetype": "text/x-python",
   "name": "python",
   "nbconvert_exporter": "python",
   "pygments_lexer": "ipython3",
   "version": "3.11.1"
  }
 },
 "nbformat": 4,
 "nbformat_minor": 2
}
