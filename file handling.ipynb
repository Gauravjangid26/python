{
 "cells": [
  {
   "cell_type": "code",
   "execution_count": 107,
   "id": "b0cc361f",
   "metadata": {},
   "outputs": [
    {
     "name": "stdout",
     "output_type": "stream",
     "text": [
      "neta,govinggarh,rajasthan\n",
      "rijul,ganaganagar,rajasthan\n",
      "\n"
     ]
    }
   ],
   "source": [
    "#read opr\n",
    "fileobj=open(\"file.txt\",\"r\")\n",
    "x=fileobj.read()\n",
    "print(x)\n",
    "fileobj.close()\n",
    "#x=fileobj.read()"
   ]
  },
  {
   "cell_type": "code",
   "execution_count": 39,
   "id": "777401d4",
   "metadata": {},
   "outputs": [],
   "source": [
    "#write opr\n",
    "fileobj=open(\"file.txt\",\"w\")\n",
    "fileobj.write(\"neta\")\n",
    "fileobj.close()\n"
   ]
  },
  {
   "cell_type": "code",
   "execution_count": 37,
   "id": "3c0c83d6",
   "metadata": {},
   "outputs": [
    {
     "name": "stdout",
     "output_type": "stream",
     "text": [
      "!!!\n"
     ]
    }
   ],
   "source": [
    "#write read opr\n",
    "fileobj=open(\"file.txt\",\"r+\")\n",
    "x=fileobj.read()\n",
    "fileobj.write(\"###\")\n",
    "fileobj.close()\n",
    "print(x)\n"
   ]
  },
  {
   "cell_type": "code",
   "execution_count": 35,
   "id": "415ac028",
   "metadata": {},
   "outputs": [
    {
     "name": "stdout",
     "output_type": "stream",
     "text": [
      "\n"
     ]
    }
   ],
   "source": [
    "#write read opr\n",
    "fileobj=open(\"file.txt\",\"r+\")\n",
    "fileobj.write(\"###\")\n",
    "x=fileobj.read()\n",
    "fileobj.close()\n",
    "print(x)"
   ]
  },
  {
   "cell_type": "code",
   "execution_count": 40,
   "id": "1f60ec7e",
   "metadata": {},
   "outputs": [
    {
     "name": "stdout",
     "output_type": "stream",
     "text": [
      "\n"
     ]
    }
   ],
   "source": [
    "fileobj=open(\"file.txt\",\"w+\")\n",
    "x=fileobj.read()\n",
    "fileobj.write(\"!!!\")\n",
    "fileobj.close()\n",
    "print(x)"
   ]
  },
  {
   "cell_type": "code",
   "execution_count": 43,
   "id": "a81ea816",
   "metadata": {},
   "outputs": [
    {
     "name": "stdout",
     "output_type": "stream",
     "text": [
      "0\n",
      "4\n"
     ]
    }
   ],
   "source": [
    "#tell()\n",
    "fileobj=open(\"file.txt\",\"w+\")\n",
    "print(fileobj.tell())\n",
    "fileobj.write(\"ABCD\")\n",
    "print(fileobj.tell())\n",
    "fileobj.close()\n"
   ]
  },
  {
   "cell_type": "code",
   "execution_count": 50,
   "id": "f9f94bdc",
   "metadata": {},
   "outputs": [
    {
     "name": "stdout",
     "output_type": "stream",
     "text": [
      "before change 4\n",
      "After change 2\n",
      "CD\n"
     ]
    }
   ],
   "source": [
    "#seek()\n",
    "fileobj=open(\"file.txt\",\"w+\")\n",
    "fileobj.write(\"ABCD\")\n",
    "print(\"before change\",fileobj.tell())\n",
    "fileobj.seek(2)\n",
    "print(\"After change\",fileobj.tell())\n",
    "print(fileobj.read())\n",
    "fileobj.close()"
   ]
  },
  {
   "cell_type": "code",
   "execution_count": 57,
   "id": "18de866c",
   "metadata": {},
   "outputs": [
    {
     "name": "stdout",
     "output_type": "stream",
     "text": [
      "ABCD\n"
     ]
    }
   ],
   "source": [
    "#with as\n",
    "with open(\"file.txt\",\"r\") as fileobj:\n",
    "    x=fileobj.read()\n",
    "print(x)"
   ]
  },
  {
   "cell_type": "code",
   "execution_count": 95,
   "id": "1ad0a4ed",
   "metadata": {},
   "outputs": [
    {
     "name": "stdout",
     "output_type": "stream",
     "text": [
      "\"['neta', 'govinggarh', 'rajasthan']\",\"['rijul', 'ganaganagar', 'rajasthan']\"\n",
      "\n",
      "\"['neta', 'govinggarh', 'rajasthan']\",\"['rijul', 'ganaganagar', 'rajasthan']\"\n",
      "\n"
     ]
    }
   ],
   "source": [
    "with open(\"file.txt\",\"r\") as fileobj:\n",
    "    x=fileobj.readline()\n",
    "    print(x)\n",
    "    x=fileobj.readline()\n",
    "    print(x)"
   ]
  },
  {
   "cell_type": "code",
   "execution_count": 96,
   "id": "b33cb429",
   "metadata": {},
   "outputs": [
    {
     "name": "stdout",
     "output_type": "stream",
     "text": [
      "['\"[\\'neta\\', \\'govinggarh\\', \\'rajasthan\\']\",\"[\\'rijul\\', \\'ganaganagar\\', \\'rajasthan\\']\"\\n', '\"[\\'neta\\', \\'govinggarh\\', \\'rajasthan\\']\",\"[\\'rijul\\', \\'ganaganagar\\', \\'rajasthan\\']\"\\n']\n"
     ]
    }
   ],
   "source": [
    "with open(\"file.txt\",\"r\") as fileobj:\n",
    "    print(fileobj.readlines())"
   ]
  },
  {
   "cell_type": "code",
   "execution_count": 97,
   "id": "75a8b6b7",
   "metadata": {},
   "outputs": [
    {
     "name": "stdout",
     "output_type": "stream",
     "text": [
      "\"['neta', 'govinggarh', 'rajasthan']\",\"['rijul', 'ganaganagar', 'rajasthan']\"\n",
      "\n",
      "\"['neta', 'govinggarh', 'rajasthan']\",\"['rijul', 'ganaganagar', 'rajasthan']\"\n",
      "\n"
     ]
    }
   ],
   "source": [
    "with open(\"file.txt\",\"r\") as fileobj:\n",
    "    for line in fileobj:\n",
    "        print(line)"
   ]
  },
  {
   "cell_type": "code",
   "execution_count": 98,
   "id": "f39eb05d",
   "metadata": {},
   "outputs": [
    {
     "name": "stdout",
     "output_type": "stream",
     "text": [
      "\"['neta', 'govinggarh', 'rajasthan']\",\"['rijul', 'ganaganagar', 'rajasthan']\"\n",
      "\"['neta', 'govinggarh', 'rajasthan']\",\"['rijul', 'ganaganagar', 'rajasthan']\"\n"
     ]
    }
   ],
   "source": [
    "#sriip remove whitespace and \\n \\t etc\n",
    "with open(\"file.txt\",\"r\") as fileobj:\n",
    "    for line in fileobj:\n",
    "        print(line.strip())"
   ]
  },
  {
   "cell_type": "code",
   "execution_count": 99,
   "id": "f7f83b44",
   "metadata": {},
   "outputs": [
    {
     "name": "stdout",
     "output_type": "stream",
     "text": [
      "\"['neta'  'govinggarh'  'rajasthan']\" \"['rijul'  'ganaganagar'  'rajasthan']\"\n",
      "\"['neta'  'govinggarh'  'rajasthan']\" \"['rijul'  'ganaganagar'  'rajasthan']\"\n"
     ]
    }
   ],
   "source": [
    "with open(\"file.txt\",\"r\") as fileobj:\n",
    "    for line in fileobj:\n",
    "        print(\" \".join(line.strip().split(\",\")))"
   ]
  },
  {
   "cell_type": "code",
   "execution_count": 100,
   "id": "a733e89a",
   "metadata": {},
   "outputs": [
    {
     "ename": "ValueError",
     "evalue": "not enough values to unpack (expected 3, got 2)",
     "output_type": "error",
     "traceback": [
      "\u001b[0;31m---------------------------------------------------------------------------\u001b[0m",
      "\u001b[0;31mValueError\u001b[0m                                Traceback (most recent call last)",
      "Cell \u001b[0;32mIn[100], line 5\u001b[0m\n\u001b[1;32m      3\u001b[0m file_csv\u001b[38;5;241m=\u001b[39mcsv\u001b[38;5;241m.\u001b[39mreader(f)\n\u001b[1;32m      4\u001b[0m \u001b[38;5;28;01mfor\u001b[39;00m row \u001b[38;5;129;01min\u001b[39;00m file_csv:\n\u001b[0;32m----> 5\u001b[0m     name,city,state\u001b[38;5;241m=\u001b[39mrow\n\u001b[1;32m      6\u001b[0m     \u001b[38;5;28mprint\u001b[39m(name,city,state)\n",
      "\u001b[0;31mValueError\u001b[0m: not enough values to unpack (expected 3, got 2)"
     ]
    }
   ],
   "source": [
    "import csv\n",
    "f=open(\"file.txt\",\"r\")\n",
    "file_csv=csv.reader(f)\n",
    "for row in file_csv:\n",
    "    name,city,state=row\n",
    "    print(name,city,state)\n",
    "\n"
   ]
  },
  {
   "cell_type": "code",
   "execution_count": 103,
   "id": "75072c37",
   "metadata": {},
   "outputs": [],
   "source": [
    "f=open(\"file.txt\",\"w+\")\n",
    "data=[[\"neta\",\"govinggarh\",\"rajasthan\"],[\"rijul\",\"ganaganagar\",\"rajasthan\"]]\n",
    "file_csv=csv.writer(f)\n",
    "for row in data:\n",
    "    file_csv.writerows(data)\n"
   ]
  },
  {
   "cell_type": "code",
   "execution_count": 105,
   "id": "6e872acb",
   "metadata": {},
   "outputs": [],
   "source": [
    "data=[[\"neta\",\"govinggarh\",\"rajasthan\"],[\"rijul\",\"ganaganagar\",\"rajasthan\"]]\n",
    "with open(\"file.txt\",\"w\") as data_csv:\n",
    "    writer=csv.writer(data_csv)\n",
    "    writer.writerows(data)"
   ]
  },
  {
   "cell_type": "code",
   "execution_count": 106,
   "id": "4337d8f2",
   "metadata": {},
   "outputs": [
    {
     "ename": "SyntaxError",
     "evalue": "invalid decimal literal (94129696.py, line 2)",
     "output_type": "error",
     "traceback": [
      "\u001b[0;36m  Cell \u001b[0;32mIn[106], line 2\u001b[0;36m\u001b[0m\n\u001b[0;31m    1.generator\u001b[0m\n\u001b[0m     ^\u001b[0m\n\u001b[0;31mSyntaxError\u001b[0m\u001b[0;31m:\u001b[0m invalid decimal literal\n"
     ]
    }
   ],
   "source": [
    "#learning\n",
    "1.generator\n",
    "2.why we use\n",
    "3.diffrence yields and return keyword\n",
    "4.list,dict,set,comprehension\n",
    "5.classes and obj,oops features"
   ]
  },
  {
   "cell_type": "code",
   "execution_count": null,
   "id": "73417c20",
   "metadata": {},
   "outputs": [],
   "source": []
  }
 ],
 "metadata": {
  "kernelspec": {
   "display_name": "Python 3 (ipykernel)",
   "language": "python",
   "name": "python3"
  },
  "language_info": {
   "codemirror_mode": {
    "name": "ipython",
    "version": 3
   },
   "file_extension": ".py",
   "mimetype": "text/x-python",
   "name": "python",
   "nbconvert_exporter": "python",
   "pygments_lexer": "ipython3",
   "version": "3.11.1"
  }
 },
 "nbformat": 4,
 "nbformat_minor": 5
}
